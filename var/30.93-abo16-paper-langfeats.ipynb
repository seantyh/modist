{
 "cells": [
  {
   "cell_type": "code",
   "execution_count": 2,
   "id": "4d60aedd-4c10-4e39-9699-2c659f728988",
   "metadata": {},
   "outputs": [],
   "source": [
    "import pandas as pd\n",
    "import numpy as np\n",
    "import matplotlib.pyplot as plt"
   ]
  },
  {
   "cell_type": "code",
   "execution_count": 126,
   "id": "327e3e65-3f9e-4a98-b22a-c366b4f2e548",
   "metadata": {},
   "outputs": [],
   "source": [
    "cat_orders = [\"full\", \"phono\", \"vowel\", \"consonant\", \"sonorant\", \"obstruent\", \"morpho\", \"syntax\"]\n",
    "feat_stats = pd.read_csv(\"../data/ling_feat_stats.csv\", index_col=0).loc[cat_orders].iloc[::-1]\n",
    "rand_stats = pd.read_csv(\"../data/ling_rand_feat_stats.csv\", index_col=0).loc[cat_orders].iloc[::-1]\n",
    "labels = [x.capitalize() for x in feat_stats.index.values]\n",
    "labels = [{\"Full\": \"All\",\n",
    "           \"Phono\": \"Phonology\", \"Morpho\": \"Morphology\", \n",
    "           \"Vowel\": \"\\u2001Vowel\", \"Consonant\": \"\\u2001Consonant\",\n",
    "           \"Sonorant\": \"\\u2001Sonorant\", \"Obstruent\": \"\\u2001Obstruent\"\n",
    "           }.get(x, x)\n",
    "          for x in labels]\n",
    "feat_stats.index = labels"
   ]
  },
  {
   "cell_type": "code",
   "execution_count": 127,
   "id": "e8c647ca-5521-4c77-abd6-95b97fa98954",
   "metadata": {},
   "outputs": [
    {
     "data": {
      "text/html": [
       "<div>\n",
       "<style scoped>\n",
       "    .dataframe tbody tr th:only-of-type {\n",
       "        vertical-align: middle;\n",
       "    }\n",
       "\n",
       "    .dataframe tbody tr th {\n",
       "        vertical-align: top;\n",
       "    }\n",
       "\n",
       "    .dataframe thead th {\n",
       "        text-align: right;\n",
       "    }\n",
       "</style>\n",
       "<table border=\"1\" class=\"dataframe\">\n",
       "  <thead>\n",
       "    <tr style=\"text-align: right;\">\n",
       "      <th></th>\n",
       "      <th>mean</th>\n",
       "      <th>std</th>\n",
       "      <th>median</th>\n",
       "      <th>Q95</th>\n",
       "      <th>Q05</th>\n",
       "    </tr>\n",
       "  </thead>\n",
       "  <tbody>\n",
       "    <tr>\n",
       "      <th>Syntax</th>\n",
       "      <td>0.347671</td>\n",
       "      <td>0.031784</td>\n",
       "      <td>0.346305</td>\n",
       "      <td>0.407836</td>\n",
       "      <td>0.295362</td>\n",
       "    </tr>\n",
       "    <tr>\n",
       "      <th>Morphology</th>\n",
       "      <td>0.430814</td>\n",
       "      <td>0.023488</td>\n",
       "      <td>0.431962</td>\n",
       "      <td>0.467582</td>\n",
       "      <td>0.391830</td>\n",
       "    </tr>\n",
       "    <tr>\n",
       "      <th>Obstruent</th>\n",
       "      <td>0.567740</td>\n",
       "      <td>0.029086</td>\n",
       "      <td>0.572806</td>\n",
       "      <td>0.606004</td>\n",
       "      <td>0.516479</td>\n",
       "    </tr>\n",
       "    <tr>\n",
       "      <th>Sonorant</th>\n",
       "      <td>0.512463</td>\n",
       "      <td>0.027437</td>\n",
       "      <td>0.514575</td>\n",
       "      <td>0.555389</td>\n",
       "      <td>0.464539</td>\n",
       "    </tr>\n",
       "    <tr>\n",
       "      <th>Consonant</th>\n",
       "      <td>0.559916</td>\n",
       "      <td>0.024754</td>\n",
       "      <td>0.567040</td>\n",
       "      <td>0.592787</td>\n",
       "      <td>0.514609</td>\n",
       "    </tr>\n",
       "    <tr>\n",
       "      <th>Vowel</th>\n",
       "      <td>0.499212</td>\n",
       "      <td>0.035223</td>\n",
       "      <td>0.496155</td>\n",
       "      <td>0.558150</td>\n",
       "      <td>0.441031</td>\n",
       "    </tr>\n",
       "    <tr>\n",
       "      <th>Phonology</th>\n",
       "      <td>0.572864</td>\n",
       "      <td>0.024292</td>\n",
       "      <td>0.574855</td>\n",
       "      <td>0.607586</td>\n",
       "      <td>0.526364</td>\n",
       "    </tr>\n",
       "    <tr>\n",
       "      <th>All</th>\n",
       "      <td>0.545272</td>\n",
       "      <td>0.022863</td>\n",
       "      <td>0.545480</td>\n",
       "      <td>0.579367</td>\n",
       "      <td>0.510290</td>\n",
       "    </tr>\n",
       "  </tbody>\n",
       "</table>\n",
       "</div>"
      ],
      "text/plain": [
       "                mean       std    median       Q95       Q05\n",
       "Syntax      0.347671  0.031784  0.346305  0.407836  0.295362\n",
       "Morphology  0.430814  0.023488  0.431962  0.467582  0.391830\n",
       " Obstruent  0.567740  0.029086  0.572806  0.606004  0.516479\n",
       " Sonorant   0.512463  0.027437  0.514575  0.555389  0.464539\n",
       " Consonant  0.559916  0.024754  0.567040  0.592787  0.514609\n",
       " Vowel      0.499212  0.035223  0.496155  0.558150  0.441031\n",
       "Phonology   0.572864  0.024292  0.574855  0.607586  0.526364\n",
       "All         0.545272  0.022863  0.545480  0.579367  0.510290"
      ]
     },
     "execution_count": 127,
     "metadata": {},
     "output_type": "execute_result"
    }
   ],
   "source": [
    "feat_stats"
   ]
  },
  {
   "cell_type": "code",
   "execution_count": 128,
   "id": "ba2dc471-1c8d-4cec-b229-107048b1a4bf",
   "metadata": {},
   "outputs": [
    {
     "data": {
      "image/png": "[encoded data removed]",
      "text/plain": [
       "<Figure size 576x504 with 1 Axes>"
      ]
     },
     "metadata": {
      "needs_background": "light"
     },
     "output_type": "display_data"
    }
   ],
   "source": [
    "prop_cycle = plt.rcParams['axes.prop_cycle']\n",
    "colors = prop_cycle.by_key()['color']\n",
    "rand_color = '#6d6e80'\n",
    "\n",
    "fig = plt.figure(figsize=(8,7))\n",
    "yticks = np.arange(feat_stats.shape[0])\n",
    "\n",
    "plt.plot(feat_stats[\"mean\"], yticks, '.', markersize=16, zorder=100)\n",
    "plt.plot(rand_stats[\"mean\"], yticks, '.', markersize=16, zorder=100, color=rand_color)\n",
    "plt.xlim([0.2,0.7])\n",
    "plt.ylim(-0.8, 7.8)\n",
    "for row_i in yticks:\n",
    "    plt.axhline(row_i, color='#999', linewidth=0.5)\n",
    "    q05 = feat_stats.iloc[row_i][\"Q05\"]\n",
    "    q95 = feat_stats.iloc[row_i][\"Q95\"]\n",
    "    r05 = rand_stats.iloc[row_i][\"Q05\"]\n",
    "    r95 = rand_stats.iloc[row_i][\"Q95\"]\n",
    "    plt.plot([q05, q95], [row_i, row_i], linewidth=3, color=colors[0])\n",
    "    plt.plot([r05, r95], [row_i, row_i], linewidth=3, color=rand_color)\n",
    "# plt.plot(feat_stats[\"mean\"], yticks, '.', markersize=16)\n",
    "plt.yticks(yticks, feat_stats.index, fontsize=20, ha=\"left\")\n",
    "plt.xticks(fontsize=16)\n",
    "plt.gca().get_yaxis().set_tick_params(pad=140, width=0)\n",
    "fig.suptitle(\"Correlation Similarities Across Feature Groups\", fontsize=24, x=0.4)\n",
    "plt.xlabel(\"Spearman's r\", fontsize=20, y=-2)\n",
    "fig.set_size_inches(8, 7)\n",
    "fig.savefig(\"../data/figure/corrsim.png\", bbox_inches=\"tight\", dpi=300)"
   ]
  },
  {
   "cell_type": "code",
   "execution_count": null,
   "id": "897dce88-45de-4faa-b3c7-13aeb70b0718",
   "metadata": {},
   "outputs": [],
   "source": []
  },
  {
   "cell_type": "code",
   "execution_count": null,
   "id": "524330cb-afba-4f9e-bbc4-dde928aa0788",
   "metadata": {},
   "outputs": [],
   "source": []
  }
 ],
 "metadata": {
  "kernelspec": {
   "display_name": "Python 3 (ipykernel)",
   "language": "python",
   "name": "python3"
  },
  "language_info": {
   "codemirror_mode": {
    "name": "ipython",
    "version": 3
   },
   "file_extension": ".py",
   "mimetype": "text/x-python",
   "name": "python",
   "nbconvert_exporter": "python",
   "pygments_lexer": "ipython3",
   "version": "3.9.5"
  }
 },
 "nbformat": 4,
 "nbformat_minor": 5
}
