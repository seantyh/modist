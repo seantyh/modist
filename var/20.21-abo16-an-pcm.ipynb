{
 "cells": [
  {
   "cell_type": "code",
   "execution_count": 1,
   "metadata": {
    "colab": {
     "base_uri": "https://localhost:8080/"
    },
    "executionInfo": {
     "elapsed": 405,
     "status": "ok",
     "timestamp": 1636782633939,
     "user": {
      "displayName": "Sean Tseng",
      "photoUrl": "https://lh3.googleusercontent.com/a-/AOh14GisdTmjr7lVhEI-xWAr-ufF73UTtr1WWn7upEGv23A=s64",
      "userId": "03959384370861675281"
     },
     "user_tz": -480
    },
    "id": "w1vef6dyU-5A",
    "outputId": "9d0f0212-0c3e-4b58-d9ab-01920531ac3a"
   },
   "outputs": [
    {
     "name": "stdout",
     "output_type": "stream",
     "text": [
      "Sun Jan 16 15:41:19 2022       \n",
      "+-----------------------------------------------------------------------------+\n",
      "| NVIDIA-SMI 495.46       Driver Version: 495.46       CUDA Version: 11.5     |\n",
      "|-------------------------------+----------------------+----------------------+\n",
      "| GPU  Name        Persistence-M| Bus-Id        Disp.A | Volatile Uncorr. ECC |\n",
      "| Fan  Temp  Perf  Pwr:Usage/Cap|         Memory-Usage | GPU-Util  Compute M. |\n",
      "|                               |                      |               MIG M. |\n",
      "|===============================+======================+======================|\n",
      "|   0  NVIDIA RTX A5000    Off  | 00000000:08:00.0 Off |                  Off |\n",
      "| 30%   31C    P8    16W / 230W |   5040MiB / 24256MiB |      0%      Default |\n",
      "|                               |                      |                  N/A |\n",
      "+-------------------------------+----------------------+----------------------+\n",
      "                                                                               \n",
      "+-----------------------------------------------------------------------------+\n",
      "| Processes:                                                                  |\n",
      "|  GPU   GI   CI        PID   Type   Process name                  GPU Memory |\n",
      "|        ID   ID                                                   Usage      |\n",
      "|=============================================================================|\n",
      "|    0   N/A  N/A      1506      G   /usr/lib/xorg/Xorg                  9MiB |\n",
      "|    0   N/A  N/A      1634      G   /usr/bin/gnome-shell                4MiB |\n",
      "|    0   N/A  N/A    222350      C   ...a3/envs/redhen/bin/python     5023MiB |\n",
      "+-----------------------------------------------------------------------------+\n"
     ]
    }
   ],
   "source": [
    "!nvidia-smi"
   ]
  },
  {
   "cell_type": "markdown",
   "metadata": {
    "id": "adoRPcU_1nT-"
   },
   "source": [
    "## Entry point"
   ]
  },
  {
   "cell_type": "code",
   "execution_count": 2,
   "metadata": {
    "executionInfo": {
     "elapsed": 512,
     "status": "ok",
     "timestamp": 1636806299901,
     "user": {
      "displayName": "Sean Tseng",
      "photoUrl": "https://lh3.googleusercontent.com/a-/AOh14GisdTmjr7lVhEI-xWAr-ufF73UTtr1WWn7upEGv23A=s64",
      "userId": "03959384370861675281"
     },
     "user_tz": -480
    },
    "id": "-7AGnLJwVnA1"
   },
   "outputs": [],
   "source": [
    "import sys\n",
    "if \"modist/src\" not in sys.path:\n",
    "    sys.path.append(\"../src\")"
   ]
  },
  {
   "cell_type": "code",
   "execution_count": 3,
   "metadata": {
    "executionInfo": {
     "elapsed": 1861,
     "status": "ok",
     "timestamp": 1636806302750,
     "user": {
      "displayName": "Sean Tseng",
      "photoUrl": "https://lh3.googleusercontent.com/a-/AOh14GisdTmjr7lVhEI-xWAr-ufF73UTtr1WWn7upEGv23A=s64",
      "userId": "03959384370861675281"
     },
     "user_tz": -480
    },
    "id": "g8sVA4kJV122"
   },
   "outputs": [],
   "source": [
    "from modist.modist_pcm_dataset import ModistPcmAnDataset, get_modist_pcm_collate_fn\n",
    "from modist.mp3_info import get_lang_encoder\n",
    "from modist.data_split import split_mp3"
   ]
  },
  {
   "cell_type": "code",
   "execution_count": 4,
   "metadata": {
    "executionInfo": {
     "elapsed": 4,
     "status": "ok",
     "timestamp": 1636806302750,
     "user": {
      "displayName": "Sean Tseng",
      "photoUrl": "https://lh3.googleusercontent.com/a-/AOh14GisdTmjr7lVhEI-xWAr-ufF73UTtr1WWn7upEGv23A=s64",
      "userId": "03959384370861675281"
     },
     "user_tz": -480
    },
    "id": "MX-wnGUzXIZc"
   },
   "outputs": [],
   "source": [
    "import json\n",
    "with open(\"../data/abo16_an_splits.json\") as fin:\n",
    "    split = json.load(fin)\n",
    "mp3_prefix = \"../data/anpcm/\"\n",
    "train_mp3 = [(mp3_prefix+x[0].replace(\".mp3\", \".pcm\"), *x[1:]) for x in split[\"train\"]]\n",
    "test_mp3 = [(mp3_prefix+x[0].replace(\".mp3\", \".pcm\"), *x[1:]) for x in split[\"test\"]]"
   ]
  },
  {
   "cell_type": "code",
   "execution_count": 5,
   "metadata": {
    "executionInfo": {
     "elapsed": 5111,
     "status": "ok",
     "timestamp": 1636806307857,
     "user": {
      "displayName": "Sean Tseng",
      "photoUrl": "https://lh3.googleusercontent.com/a-/AOh14GisdTmjr7lVhEI-xWAr-ufF73UTtr1WWn7upEGv23A=s64",
      "userId": "03959384370861675281"
     },
     "user_tz": -480
    },
    "id": "MmYbtSP8bmd4"
   },
   "outputs": [],
   "source": [
    "import random\n",
    "from itertools import islice\n",
    "from sklearn.preprocessing import LabelEncoder\n",
    "import torch\n",
    "import torch.nn as nn\n",
    "from torch.utils.data import DataLoader\n",
    "import pytorch_lightning as pl\n",
    "import wandb\n",
    "import torchmetrics\n",
    "from pytorch_lightning.loggers import WandbLogger\n",
    "from pytorch_lightning.callbacks import ModelCheckpoint\n",
    "from transformers import Wav2Vec2FeatureExtractor, Wav2Vec2ForPreTraining, Wav2Vec2Model, Wav2Vec2Config\n",
    "from transformers.models.wav2vec2.modeling_wav2vec2 import _compute_mask_indices, _sample_negative_indices\n",
    "from transformers.optimization import get_cosine_schedule_with_warmup"
   ]
  },
  {
   "cell_type": "markdown",
   "metadata": {
    "id": "HwJN3ZkIMGl0"
   },
   "source": [
    "## Setup condition"
   ]
  },
  {
   "cell_type": "code",
   "execution_count": 7,
   "metadata": {
    "colab": {
     "base_uri": "https://localhost:8080/"
    },
    "executionInfo": {
     "elapsed": 24,
     "status": "ok",
     "timestamp": 1636806307860,
     "user": {
      "displayName": "Sean Tseng",
      "photoUrl": "https://lh3.googleusercontent.com/a-/AOh14GisdTmjr7lVhEI-xWAr-ufF73UTtr1WWn7upEGv23A=s64",
      "userId": "03959384370861675281"
     },
     "user_tz": -480
    },
    "id": "g-ip_QdRMLIl",
    "outputId": "7fc4902e-d112-4493-bad8-659b0374e45f"
   },
   "outputs": [
    {
     "name": "stdout",
     "output_type": "stream",
     "text": [
      "Running finetune condition _abo16-an_, with pretrain base _xlsr_\n",
      "speech_only: True\n",
      "randomize_seg: True\n",
      "limit_data_prop: None\n"
     ]
    }
   ],
   "source": [
    "condition = \"abo16-an\"\n",
    "pretrained_base = \"xlsr\"\n",
    "randomize_seg = True\n",
    "random_seed = 12121\n",
    "speech_only = True\n",
    "limit_data_prop = None # for debug use, set to None in real training\n",
    "print(f\"Running finetune condition _{condition}_, with pretrain base _{pretrained_base}_\")\n",
    "print(f\"speech_only: {speech_only}\")\n",
    "print(f\"randomize_seg: {randomize_seg}\")\n",
    "print(f\"limit_data_prop: {limit_data_prop}\")"
   ]
  },
  {
   "cell_type": "markdown",
   "metadata": {
    "id": "QdnlJC06f5_M"
   },
   "source": [
    "## Prepare Dataset"
   ]
  },
  {
   "cell_type": "code",
   "execution_count": 8,
   "metadata": {
    "executionInfo": {
     "elapsed": 4084,
     "status": "ok",
     "timestamp": 1636806311931,
     "user": {
      "displayName": "Sean Tseng",
      "photoUrl": "https://lh3.googleusercontent.com/a-/AOh14GisdTmjr7lVhEI-xWAr-ufF73UTtr1WWn7upEGv23A=s64",
      "userId": "03959384370861675281"
     },
     "user_tz": -480
    },
    "id": "ewzxHHhOBWkf"
   },
   "outputs": [],
   "source": [
    "lang_encoder = get_lang_encoder(\"../data/abo16_lang_map.csv\")\n",
    "wv2_pt_model_name = \"facebook/wav2vec2-large-xlsr-53\"\n",
    "feature_extractor = Wav2Vec2FeatureExtractor.from_pretrained(wv2_pt_model_name)\n",
    "train_dataset = ModistPcmAnDataset(train_mp3, speech_only=True, limit_data_prop=limit_data_prop)\n",
    "test_dataset = ModistPcmAnDataset(test_mp3, speech_only=True, limit_data_prop=limit_data_prop)\n",
    "collate_fn = get_modist_pcm_collate_fn(feature_extractor, lang_encoder, train_dataset.sample_rate)"
   ]
  },
  {
   "cell_type": "code",
   "execution_count": 9,
   "metadata": {
    "colab": {
     "base_uri": "https://localhost:8080/"
    },
    "executionInfo": {
     "elapsed": 36,
     "status": "ok",
     "timestamp": 1636806311932,
     "user": {
      "displayName": "Sean Tseng",
      "photoUrl": "https://lh3.googleusercontent.com/a-/AOh14GisdTmjr7lVhEI-xWAr-ufF73UTtr1WWn7upEGv23A=s64",
      "userId": "03959384370861675281"
     },
     "user_tz": -480
    },
    "id": "lEWYsRPbf8sE",
    "outputId": "9fd41a56-107c-4b6c-bf2f-195868e08aec"
   },
   "outputs": [
    {
     "data": {
      "text/plain": [
       "(13579, 2276)"
      ]
     },
     "execution_count": 9,
     "metadata": {},
     "output_type": "execute_result"
    }
   ],
   "source": [
    "n_train = len(train_dataset.inventory)\n",
    "len(train_dataset.inventory), len(test_dataset.inventory)"
   ]
  },
  {
   "cell_type": "code",
   "execution_count": 10,
   "metadata": {
    "colab": {
     "base_uri": "https://localhost:8080/"
    },
    "executionInfo": {
     "elapsed": 28,
     "status": "ok",
     "timestamp": 1636806311933,
     "user": {
      "displayName": "Sean Tseng",
      "photoUrl": "https://lh3.googleusercontent.com/a-/AOh14GisdTmjr7lVhEI-xWAr-ufF73UTtr1WWn7upEGv23A=s64",
      "userId": "03959384370861675281"
     },
     "user_tz": -480
    },
    "id": "obGNxfdBgJs6",
    "outputId": "c413f031-62f4-47ce-984f-d968def7c967"
   },
   "outputs": [
    {
     "data": {
      "text/plain": [
       "{'pcm_lang': 'Thau',\n",
       " 'category': 'speech',\n",
       " 'ss': 84,\n",
       " 'ee': 87,\n",
       " 'samples': memmap([473, 113, -63, ..., 933, 949, 984], dtype=int16)}"
      ]
     },
     "execution_count": 10,
     "metadata": {},
     "output_type": "execute_result"
    }
   ],
   "source": [
    "train_dataset[1001]"
   ]
  },
  {
   "cell_type": "code",
   "execution_count": 11,
   "metadata": {
    "executionInfo": {
     "elapsed": 23,
     "status": "ok",
     "timestamp": 1636806311934,
     "user": {
      "displayName": "Sean Tseng",
      "photoUrl": "https://lh3.googleusercontent.com/a-/AOh14GisdTmjr7lVhEI-xWAr-ufF73UTtr1WWn7upEGv23A=s64",
      "userId": "03959384370861675281"
     },
     "user_tz": -480
    },
    "id": "ALI-cdoTgPl2"
   },
   "outputs": [],
   "source": [
    "train_loader = DataLoader(train_dataset, batch_size=16, collate_fn=collate_fn, drop_last=True, shuffle=True)\n",
    "test_loader = DataLoader(test_dataset, batch_size=16, collate_fn=collate_fn, drop_last=True)"
   ]
  },
  {
   "cell_type": "code",
   "execution_count": 12,
   "metadata": {
    "colab": {
     "base_uri": "https://localhost:8080/"
    },
    "executionInfo": {
     "elapsed": 23,
     "status": "ok",
     "timestamp": 1636806311935,
     "user": {
      "displayName": "Sean Tseng",
      "photoUrl": "https://lh3.googleusercontent.com/a-/AOh14GisdTmjr7lVhEI-xWAr-ufF73UTtr1WWn7upEGv23A=s64",
      "userId": "03959384370861675281"
     },
     "user_tz": -480
    },
    "id": "pihtkBeVhROX",
    "outputId": "7c63c792-9a73-48a8-9e74-45e7dec06a7b"
   },
   "outputs": [
    {
     "name": "stdout",
     "output_type": "stream",
     "text": [
      "torch.Size([16, 48000]) tensor([14, 11,  1, 10,  0, 13,  3, 10,  4,  4, 15,  3, 14, 10,  3, 16])\n"
     ]
    }
   ],
   "source": [
    "batch_z = next(iter(train_loader))\n",
    "print(batch_z[\"tensorX\"].shape, batch_z[\"lang\"])"
   ]
  },
  {
   "cell_type": "markdown",
   "metadata": {
    "id": "3TKi4_thMIkB"
   },
   "source": [
    "## Model configuration"
   ]
  },
  {
   "cell_type": "code",
   "execution_count": 12,
   "metadata": {
    "colab": {
     "base_uri": "https://localhost:8080/",
     "height": 276
    },
    "executionInfo": {
     "elapsed": 7266,
     "status": "ok",
     "timestamp": 1636806319182,
     "user": {
      "displayName": "Sean Tseng",
      "photoUrl": "https://lh3.googleusercontent.com/a-/AOh14GisdTmjr7lVhEI-xWAr-ufF73UTtr1WWn7upEGv23A=s64",
      "userId": "03959384370861675281"
     },
     "user_tz": -480
    },
    "id": "s1a0pRUsyJNs",
    "outputId": "227d8dd9-3f2c-4e35-cc0a-2c2e973086df"
   },
   "outputs": [
    {
     "name": "stderr",
     "output_type": "stream",
     "text": [
      "Failed to detect the name of this notebook, you can set it manually with the WANDB_NOTEBOOK_NAME environment variable to enable code saving.\n",
      "\u001b[34m\u001b[1mwandb\u001b[0m: Currently logged in as: \u001b[33mseantyh\u001b[0m (use `wandb login --relogin` to force relogin)\n"
     ]
    },
    {
     "data": {
      "text/html": [
       "\n",
       "                    Syncing run <strong><a href=\"https://wandb.ai/seantyh/abo16-an/runs/2knt9rhb\" target=\"_blank\">abo16-an-02</a></strong> to <a href=\"https://wandb.ai/seantyh/abo16-an\" target=\"_blank\">Weights & Biases</a> (<a href=\"https://docs.wandb.com/integrations/jupyter.html\" target=\"_blank\">docs</a>).<br/>\n",
       "\n",
       "                "
      ],
      "text/plain": [
       "<IPython.core.display.HTML object>"
      ]
     },
     "metadata": {},
     "output_type": "display_data"
    },
    {
     "data": {
      "text/html": [
       "<button onClick=\"this.nextSibling.style.display='block';this.style.display='none';\">Display W&B run</button><iframe src=\"https://wandb.ai/seantyh/abo16-an/runs/2knt9rhb?jupyter=true\" style=\"border:none;width:100%;height:420px;display:none;\"></iframe>"
      ],
      "text/plain": [
       "<wandb.sdk.wandb_run.Run at 0x7fc5ac097670>"
      ]
     },
     "execution_count": 12,
     "metadata": {},
     "output_type": "execute_result"
    }
   ],
   "source": [
    "# initialize wandb first to download artifact\n",
    "wandb.init(project='abo16-an', name=f'abo16-an-02', reinit=True, \n",
    "           notes=\"AN data, 10 epochs, lr=1e-3, cosine scheduler with 200 steps warmup\")"
   ]
  },
  {
   "cell_type": "code",
   "execution_count": 13,
   "metadata": {
    "colab": {
     "base_uri": "https://localhost:8080/"
    },
    "executionInfo": {
     "elapsed": 1280,
     "status": "ok",
     "timestamp": 1636806320456,
     "user": {
      "displayName": "Sean Tseng",
      "photoUrl": "https://lh3.googleusercontent.com/a-/AOh14GisdTmjr7lVhEI-xWAr-ufF73UTtr1WWn7upEGv23A=s64",
      "userId": "03959384370861675281"
     },
     "user_tz": -480
    },
    "id": "TOs6vJesyEkw",
    "outputId": "d48303bd-83d9-4444-d7c9-b5c8510e6f58"
   },
   "outputs": [],
   "source": [
    "import glob\n",
    "config = Wav2Vec2Config.from_pretrained(wv2_pt_model_name)"
   ]
  },
  {
   "cell_type": "code",
   "execution_count": 14,
   "metadata": {
    "executionInfo": {
     "elapsed": 5,
     "status": "ok",
     "timestamp": 1636806320457,
     "user": {
      "displayName": "Sean Tseng",
      "photoUrl": "https://lh3.googleusercontent.com/a-/AOh14GisdTmjr7lVhEI-xWAr-ufF73UTtr1WWn7upEGv23A=s64",
      "userId": "03959384370861675281"
     },
     "user_tz": -480
    },
    "id": "4HAQ9rCsXQS1"
   },
   "outputs": [],
   "source": [
    "class Abo16AnFineTune(pl.LightningModule):\n",
    "    def __init__(self, w2v_config, num_class, wv2_pretrained=None, lr=1e-3, n_train=1000):\n",
    "        super().__init__()\n",
    "        if wv2_pretrained:\n",
    "            self.wav2vec2 = Wav2Vec2Model.from_pretrained(wv2_pretrained)\n",
    "        else:\n",
    "            self.wav2vec2 = Wav2Vec2Model(w2v_config)        \n",
    "        self.classifier = nn.Linear(w2v_config.hidden_size, num_class)\n",
    "        self.loss_fn = nn.CrossEntropyLoss()\n",
    "        self.n_train = n_train\n",
    "        self.save_hyperparameters()    \n",
    "        self.train_acc = torchmetrics.Accuracy()\n",
    "        self.val_acc = torchmetrics.Accuracy()    \n",
    "\n",
    "    def forward(self, X):        \n",
    "        batch_size = X.size(0)\n",
    "        h = self.wav2vec2(X)\n",
    "        o = self.classifier(h.last_hidden_state[:, 0, :])\n",
    "        return o\n",
    "\n",
    "    def configure_optimizers(self):\n",
    "        optimizer = torch.optim.AdamW(self.parameters(), lr=self.hparams.lr)\n",
    "        scheduler = get_cosine_schedule_with_warmup(\n",
    "            optimizer, 200, n_train*self.trainer.max_epochs)\n",
    "        return {\n",
    "            \"optimizer\": optimizer, \"lr_scheduler\": scheduler\n",
    "        }\n",
    "\n",
    "    def training_step(self, train_batch, batch_idx):\n",
    "        logits = self.forward(train_batch[\"tensorX\"])\n",
    "        lang_ids = train_batch[\"lang\"]\n",
    "        loss = self.loss_fn(logits, lang_ids)\n",
    "        preds = logits.argmax(dim=1)    \n",
    "        self.train_acc(preds, lang_ids)\n",
    "        self.log('train_loss', loss)\n",
    "        self.log('train_acc', self.train_acc, on_step=True, on_epoch=True)\n",
    "        return loss\n",
    "\n",
    "    def validation_step(self, val_batch, batch_idx):\n",
    "        logits = self.forward(val_batch[\"tensorX\"])\n",
    "        lang_ids = val_batch[\"lang\"]\n",
    "        loss = self.loss_fn(logits, lang_ids)\n",
    "        preds = logits.argmax(dim=1)\n",
    "        self.val_acc(preds, lang_ids)    \n",
    "        self.log('train_loss', loss)\n",
    "        self.log('val_acc', self.val_acc, on_step=True, on_epoch=False)\n",
    "        self.log('val_acc_epoch', self.val_acc, on_step=False, on_epoch=True)\n",
    "        return loss\n",
    "\n",
    "    def predict_step(self, test_batch, batch_idx):\n",
    "        X = test_batch[\"tensorX\"]    \n",
    "        h = self.wav2vec2(X, output_hidden_states=True)\n",
    "        logits = self.classifier(h.last_hidden_state[:, 0, :])\n",
    "        preds = logits.argmax(dim=1)\n",
    "\n",
    "        if \"lang\" in test_batch:\n",
    "            ans = test_batch[\"lang\"]\n",
    "            return {\"preds\": preds, \"ans\": ans,               \n",
    "                  \"last\": h.last_hidden_state[:, 0, :].cpu().numpy(),\n",
    "                  \"h0\": h.hidden_states[0][:, 0, :].cpu().numpy(),\n",
    "                  \"h6\": h.hidden_states[6][:, 0, :].cpu().numpy()}\n",
    "        else:\n",
    "            return preds\n"
   ]
  },
  {
   "cell_type": "markdown",
   "metadata": {
    "id": "USbuGK_J8Qa2"
   },
   "source": [
    "## Training"
   ]
  },
  {
   "cell_type": "code",
   "execution_count": 16,
   "metadata": {
    "colab": {
     "base_uri": "https://localhost:8080/",
     "height": 551,
     "referenced_widgets": [
      "67757eaf73fe4575b8a622b46553e241",
      "cd6a0b4996ff4ec8892d0a8ddf090b21",
      "442218ea78704797a61905e13660d15b",
      "a50acad514db4bd68eaa4878f4af0584",
      "35d5e7b9e07c443083fef7ce79fc9acd",
      "c605a77e909b482a8929ac142820c4f2",
      "7ede05b529844b7fb2b94ee342863b66",
      "26e6fa8623fd41d3b98f54a55587d7df",
      "17d3c86f24254bb1812c60cec270fadb",
      "c598adcad1d24a6fba5d41ef3eb777f8",
      "f638bb06f5a94c7480602abfcab9240f",
      "c1453d56f5a04ab9bcd988d21d3120cc",
      "35e10cc17d4f4c29b0e3e6dc526bfe2d",
      "dc505d08e4cb4bd08613dd056716a194",
      "26584b11a35c4ab984aa3d8260b233bd",
      "5e39ae24c7194ac8a33f486437a3ba2a",
      "2817b15568584ddc96494a4dc2c8f902",
      "50845223c56f4628b981f813baa7f517",
      "de5d0a61242b490c89556990055af04d",
      "18f040dbdd5d45ba8307e2e47b6422d2",
      "38c71ed9d444486babc199305a8552a6",
      "c4573607966c4ec0bfcc1e6103613bad",
      "8d5269f7d05a4bf6816f0a229dc41bc3",
      "80659eeca19d4226b2908ac83b3def7b",
      "68b4a9a266ae43da9fd07bca98107b20",
      "82e31e33cc6e4cfab12849a38b678b8a",
      "61d381c9a279485d87dad8b548e14781",
      "1561d43ba221490b8b548729f8ada266",
      "16da6170e5994d85bb01a6b5eac57171",
      "982dc98f540d4eefa6b576b235104383",
      "8f3fdcee7887467895994bf8aa2d5c9f",
      "85fbd5cf194942f7b5c254a76b33ca5b",
      "32d271872cc44a8a8c8f3160637bcade",
      "37094d23881249218c0cf45bdfa156f4",
      "e04e02043fb04aef927c962393f5ffc6",
      "0515d6be7dcc42d180b37b6f7a437966",
      "e9080c14abdd4a488fcd2531fede2057",
      "bbf7bee5f7f34c46a42386d14145b21e",
      "bfc06ba48b274bbf8e5e628bde6c950e",
      "93b5e3ff10da4e4ab54f1636f3614839",
      "d354fb2ade1f40e288abf394fcf8e8f8",
      "8124506bf5434bd2bdb8e4db675fc014",
      "1065f603914042a38fa8c8add93c7d91",
      "fa3e3929200242bba7077dbfad72190a"
     ]
    },
    "id": "cxxHntnKXRKr",
    "outputId": "a33a80af-f5b7-4357-8c52-ecc98df3d523"
   },
   "outputs": [
    {
     "name": "stderr",
     "output_type": "stream",
     "text": [
      "Some weights of the model checkpoint at facebook/wav2vec2-large-xlsr-53 were not used when initializing Wav2Vec2Model: ['quantizer.weight_proj.bias', 'project_q.bias', 'quantizer.weight_proj.weight', 'quantizer.codevectors', 'project_hid.bias', 'project_q.weight', 'project_hid.weight']\n",
      "- This IS expected if you are initializing Wav2Vec2Model from the checkpoint of a model trained on another task or with another architecture (e.g. initializing a BertForSequenceClassification model from a BertForPreTraining model).\n",
      "- This IS NOT expected if you are initializing Wav2Vec2Model from the checkpoint of a model that you expect to be exactly identical (initializing a BertForSequenceClassification model from a BertForSequenceClassification model).\n",
      "GPU available: True, used: True\n",
      "TPU available: False, using: 0 TPU cores\n",
      "IPU available: False, using: 0 IPUs\n",
      "LOCAL_RANK: 0 - CUDA_VISIBLE_DEVICES: [0]\n",
      "/home/seantyh/miniconda3/lib/python3.9/site-packages/pytorch_lightning/loggers/wandb.py:341: UserWarning: There is a wandb run already in progress and newly created instances of `WandbLogger` will reuse this run. If this is not desired, call `wandb.finish()` before instantiating `WandbLogger`.\n",
      "  rank_zero_warn(\n",
      "\n",
      "  | Name       | Type             | Params\n",
      "------------------------------------------------\n",
      "0 | wav2vec2   | Wav2Vec2Model    | 315 M \n",
      "1 | classifier | Linear           | 17.4 K\n",
      "2 | loss_fn    | CrossEntropyLoss | 0     \n",
      "3 | train_acc  | Accuracy         | 0     \n",
      "4 | val_acc    | Accuracy         | 0     \n",
      "------------------------------------------------\n",
      "315 M     Trainable params\n",
      "0         Non-trainable params\n",
      "315 M     Total params\n",
      "1,261.825 Total estimated model params size (MB)\n"
     ]
    },
    {
     "data": {
      "application/vnd.jupyter.widget-view+json": {
       "model_id": "",
       "version_major": 2,
       "version_minor": 0
      },
      "text/plain": [
       "Validation sanity check: 0it [00:00, ?it/s]"
      ]
     },
     "metadata": {},
     "output_type": "display_data"
    },
    {
     "name": "stderr",
     "output_type": "stream",
     "text": [
      "/home/seantyh/miniconda3/lib/python3.9/site-packages/pytorch_lightning/trainer/data_loading.py:132: UserWarning: The dataloader, val_dataloader 0, does not have many workers which may be a bottleneck. Consider increasing the value of the `num_workers` argument` (try 32 which is the number of cpus on this machine) in the `DataLoader` init to improve performance.\n",
      "  rank_zero_warn(\n",
      "/home/seantyh/miniconda3/lib/python3.9/site-packages/pytorch_lightning/utilities/data.py:59: UserWarning: Trying to infer the `batch_size` from an ambiguous collection. The batch size we found is 16. To avoid any miscalculations, use `self.log(..., batch_size=batch_size)`.\n",
      "  warning_cache.warn(\n",
      "/home/seantyh/miniconda3/lib/python3.9/site-packages/pytorch_lightning/trainer/data_loading.py:132: UserWarning: The dataloader, train_dataloader, does not have many workers which may be a bottleneck. Consider increasing the value of the `num_workers` argument` (try 32 which is the number of cpus on this machine) in the `DataLoader` init to improve performance.\n",
      "  rank_zero_warn(\n"
     ]
    },
    {
     "data": {
      "application/vnd.jupyter.widget-view+json": {
       "model_id": "b7f61f8fe66b48afa79cfc92ae67645b",
       "version_major": 2,
       "version_minor": 0
      },
      "text/plain": [
       "Training: 0it [00:00, ?it/s]"
      ]
     },
     "metadata": {},
     "output_type": "display_data"
    },
    {
     "data": {
      "application/vnd.jupyter.widget-view+json": {
       "model_id": "",
       "version_major": 2,
       "version_minor": 0
      },
      "text/plain": [
       "Validating: 0it [00:00, ?it/s]"
      ]
     },
     "metadata": {},
     "output_type": "display_data"
    },
    {
     "data": {
      "application/vnd.jupyter.widget-view+json": {
       "model_id": "",
       "version_major": 2,
       "version_minor": 0
      },
      "text/plain": [
       "Validating: 0it [00:00, ?it/s]"
      ]
     },
     "metadata": {},
     "output_type": "display_data"
    },
    {
     "data": {
      "application/vnd.jupyter.widget-view+json": {
       "model_id": "",
       "version_major": 2,
       "version_minor": 0
      },
      "text/plain": [
       "Validating: 0it [00:00, ?it/s]"
      ]
     },
     "metadata": {},
     "output_type": "display_data"
    },
    {
     "data": {
      "application/vnd.jupyter.widget-view+json": {
       "model_id": "",
       "version_major": 2,
       "version_minor": 0
      },
      "text/plain": [
       "Validating: 0it [00:00, ?it/s]"
      ]
     },
     "metadata": {},
     "output_type": "display_data"
    },
    {
     "data": {
      "application/vnd.jupyter.widget-view+json": {
       "model_id": "",
       "version_major": 2,
       "version_minor": 0
      },
      "text/plain": [
       "Validating: 0it [00:00, ?it/s]"
      ]
     },
     "metadata": {},
     "output_type": "display_data"
    },
    {
     "data": {
      "application/vnd.jupyter.widget-view+json": {
       "model_id": "",
       "version_major": 2,
       "version_minor": 0
      },
      "text/plain": [
       "Validating: 0it [00:00, ?it/s]"
      ]
     },
     "metadata": {},
     "output_type": "display_data"
    },
    {
     "data": {
      "application/vnd.jupyter.widget-view+json": {
       "model_id": "",
       "version_major": 2,
       "version_minor": 0
      },
      "text/plain": [
       "Validating: 0it [00:00, ?it/s]"
      ]
     },
     "metadata": {},
     "output_type": "display_data"
    },
    {
     "data": {
      "application/vnd.jupyter.widget-view+json": {
       "model_id": "",
       "version_major": 2,
       "version_minor": 0
      },
      "text/plain": [
       "Validating: 0it [00:00, ?it/s]"
      ]
     },
     "metadata": {},
     "output_type": "display_data"
    },
    {
     "data": {
      "application/vnd.jupyter.widget-view+json": {
       "model_id": "",
       "version_major": 2,
       "version_minor": 0
      },
      "text/plain": [
       "Validating: 0it [00:00, ?it/s]"
      ]
     },
     "metadata": {},
     "output_type": "display_data"
    },
    {
     "data": {
      "application/vnd.jupyter.widget-view+json": {
       "model_id": "",
       "version_major": 2,
       "version_minor": 0
      },
      "text/plain": [
       "Validating: 0it [00:00, ?it/s]"
      ]
     },
     "metadata": {},
     "output_type": "display_data"
    }
   ],
   "source": [
    "model = Abo16AnFineTune(config, len(lang_encoder.classes_), \n",
    "                         wv2_pretrained=wv2_pt_model_name,\n",
    "                        lr=1e-3, \n",
    "                        n_train=len(train_dataset))\n",
    "\n",
    "wandb_logger = WandbLogger()\n",
    "model_ckpt = ModelCheckpoint(\n",
    "    monitor='val_acc_epoch', mode='max',\n",
    "    save_weights_only=True, every_n_epochs=1)\n",
    "trainer = pl.Trainer(fast_dev_run=False, gpus=1, logger=wandb_logger, \n",
    "                     max_epochs=10, log_every_n_steps=20,                      \n",
    "                     callbacks=[model_ckpt])\n",
    "trainer.fit(model, train_loader, test_loader)"
   ]
  },
  {
   "cell_type": "code",
   "execution_count": 17,
   "metadata": {
    "colab": {
     "base_uri": "https://localhost:8080/",
     "height": 1000
    },
    "executionInfo": {
     "elapsed": 15,
     "status": "ok",
     "timestamp": 1636798598679,
     "user": {
      "displayName": "Sean Tseng",
      "photoUrl": "https://lh3.googleusercontent.com/a-/AOh14GisdTmjr7lVhEI-xWAr-ufF73UTtr1WWn7upEGv23A=s64",
      "userId": "03959384370861675281"
     },
     "user_tz": -480
    },
    "id": "mvDtnZ8-zYv0",
    "outputId": "5d907d02-8a54-4510-9d32-d20538d585a0"
   },
   "outputs": [
    {
     "data": {
      "text/plain": [
       "'/home/seantyh/langon/modist/var/abo16-an/2knt9rhb/checkpoints/epoch=6-step=5935.ckpt'"
      ]
     },
     "execution_count": 17,
     "metadata": {},
     "output_type": "execute_result"
    }
   ],
   "source": [
    "model_ckpt.best_model_path"
   ]
  },
  {
   "cell_type": "code",
   "execution_count": 20,
   "metadata": {
    "executionInfo": {
     "elapsed": 2943,
     "status": "ok",
     "timestamp": 1636799545767,
     "user": {
      "displayName": "Sean Tseng",
      "photoUrl": "https://lh3.googleusercontent.com/a-/AOh14GisdTmjr7lVhEI-xWAr-ufF73UTtr1WWn7upEGv23A=s64",
      "userId": "03959384370861675281"
     },
     "user_tz": -480
    },
    "id": "JSPgwBZW2iOP"
   },
   "outputs": [],
   "source": [
    "# manually copy the best model path to abo16-an"
   ]
  },
  {
   "cell_type": "markdown",
   "metadata": {
    "id": "0McOqIZn1yie"
   },
   "source": [
    "## Evaluation"
   ]
  },
  {
   "cell_type": "code",
   "execution_count": 15,
   "metadata": {
    "colab": {
     "base_uri": "https://localhost:8080/",
     "height": 150,
     "referenced_widgets": [
      "731d7c4e2c594dfbb3741b708b772aa4",
      "87a34dcb234741ffbed7de8fe1bc0d06",
      "9f6cb80521d449d8befc0272d26a6a31",
      "699a488fd38146458373449127a1f74c",
      "847fbf4c6ab24564bae6bd85e945d2b6",
      "6600ef08684d46709f342b3239108b9e",
      "f39f1a17770e4f65be93d17478f0b317",
      "93804697578e4dbc916498b94f177a0a",
      "936a1345f01d46dc9b3969ee9fd995c5",
      "92706977d44b4d3494f7cc86f26e3f63",
      "50ed109e4e1041ce96ef515565919219"
     ]
    },
    "executionInfo": {
     "elapsed": 49578,
     "status": "ok",
     "timestamp": 1636803063964,
     "user": {
      "displayName": "Sean Tseng",
      "photoUrl": "https://lh3.googleusercontent.com/a-/AOh14GisdTmjr7lVhEI-xWAr-ufF73UTtr1WWn7upEGv23A=s64",
      "userId": "03959384370861675281"
     },
     "user_tz": -480
    },
    "id": "LO-zRbEk3Y97",
    "outputId": "b9a40635-99b7-42e8-dc7c-ce086a7dbecd"
   },
   "outputs": [
    {
     "name": "stderr",
     "output_type": "stream",
     "text": [
      "Some weights of the model checkpoint at facebook/wav2vec2-large-xlsr-53 were not used when initializing Wav2Vec2Model: ['project_hid.bias', 'quantizer.weight_proj.bias', 'quantizer.codevectors', 'project_hid.weight', 'project_q.weight', 'quantizer.weight_proj.weight', 'project_q.bias']\n",
      "- This IS expected if you are initializing Wav2Vec2Model from the checkpoint of a model trained on another task or with another architecture (e.g. initializing a BertForSequenceClassification model from a BertForPreTraining model).\n",
      "- This IS NOT expected if you are initializing Wav2Vec2Model from the checkpoint of a model that you expect to be exactly identical (initializing a BertForSequenceClassification model from a BertForSequenceClassification model).\n",
      "GPU available: True, used: True\n",
      "TPU available: False, using: 0 TPU cores\n",
      "IPU available: False, using: 0 IPUs\n",
      "LOCAL_RANK: 0 - CUDA_VISIBLE_DEVICES: [0]\n",
      "/home/seantyh/miniconda3/lib/python3.9/site-packages/pytorch_lightning/trainer/data_loading.py:132: UserWarning: The dataloader, predict_dataloader 0, does not have many workers which may be a bottleneck. Consider increasing the value of the `num_workers` argument` (try 32 which is the number of cpus on this machine) in the `DataLoader` init to improve performance.\n",
      "  rank_zero_warn(\n"
     ]
    },
    {
     "data": {
      "application/vnd.jupyter.widget-view+json": {
       "model_id": "1409f6f5dc6f4bb383bb40126fa4c077",
       "version_major": 2,
       "version_minor": 0
      },
      "text/plain": [
       "Predicting: 0it [00:00, ?it/s]"
      ]
     },
     "metadata": {},
     "output_type": "display_data"
    }
   ],
   "source": [
    "model = Abo16AnFineTune.load_from_checkpoint(\"abo16-an/abo16-an-02.ckpt\")\n",
    "evaler = pl.Trainer(fast_dev_run=False, gpus=1)\n",
    "evals = evaler.predict(model, test_loader)"
   ]
  },
  {
   "cell_type": "code",
   "execution_count": 17,
   "metadata": {
    "executionInfo": {
     "elapsed": 2,
     "status": "ok",
     "timestamp": 1636804573460,
     "user": {
      "displayName": "Sean Tseng",
      "photoUrl": "https://lh3.googleusercontent.com/a-/AOh14GisdTmjr7lVhEI-xWAr-ufF73UTtr1WWn7upEGv23A=s64",
      "userId": "03959384370861675281"
     },
     "user_tz": -480
    },
    "id": "kxn-2AG-C6Dt"
   },
   "outputs": [],
   "source": [
    "def flatten(x):\n",
    "    return (y for _x in x for y in _x)\n",
    "preds_iter = flatten(x[\"preds\"] for x in evals)\n",
    "ans_iter = flatten(x[\"ans\"] for x in evals)\n",
    "preds = [lang_encoder.classes_[x] for x in preds_iter]\n",
    "ans = [lang_encoder.classes_[x] for x in ans_iter]\n"
   ]
  },
  {
   "cell_type": "code",
   "execution_count": 18,
   "metadata": {
    "executionInfo": {
     "elapsed": 513,
     "status": "ok",
     "timestamp": 1636803980917,
     "user": {
      "displayName": "Sean Tseng",
      "photoUrl": "https://lh3.googleusercontent.com/a-/AOh14GisdTmjr7lVhEI-xWAr-ufF73UTtr1WWn7upEGv23A=s64",
      "userId": "03959384370861675281"
     },
     "user_tz": -480
    },
    "id": "LEVYqsD73f2_"
   },
   "outputs": [],
   "source": [
    "from sklearn.metrics import accuracy_score\n",
    "from sklearn.metrics import classification_report, confusion_matrix"
   ]
  },
  {
   "cell_type": "code",
   "execution_count": 19,
   "metadata": {
    "colab": {
     "base_uri": "https://localhost:8080/"
    },
    "executionInfo": {
     "elapsed": 7,
     "status": "ok",
     "timestamp": 1636804575298,
     "user": {
      "displayName": "Sean Tseng",
      "photoUrl": "https://lh3.googleusercontent.com/a-/AOh14GisdTmjr7lVhEI-xWAr-ufF73UTtr1WWn7upEGv23A=s64",
      "userId": "03959384370861675281"
     },
     "user_tz": -480
    },
    "id": "W8yd2c-EHj4S",
    "outputId": "91abe18d-0cd9-4e2e-c0b5-2d8fa736b01b"
   },
   "outputs": [
    {
     "data": {
      "text/plain": [
       "0.8765377855887522"
      ]
     },
     "execution_count": 19,
     "metadata": {},
     "output_type": "execute_result"
    }
   ],
   "source": [
    "accuracy_score(ans, preds)"
   ]
  },
  {
   "cell_type": "code",
   "execution_count": 20,
   "metadata": {
    "colab": {
     "base_uri": "https://localhost:8080/",
     "height": 561
    },
    "executionInfo": {
     "elapsed": 1124,
     "status": "ok",
     "timestamp": 1636805712768,
     "user": {
      "displayName": "Sean Tseng",
      "photoUrl": "https://lh3.googleusercontent.com/a-/AOh14GisdTmjr7lVhEI-xWAr-ufF73UTtr1WWn7upEGv23A=s64",
      "userId": "03959384370861675281"
     },
     "user_tz": -480
    },
    "id": "lbi0LHcsHsbT",
    "outputId": "6db699bd-b42a-425b-e609-952f36024b7e"
   },
   "outputs": [
    {
     "data": {
      "image/png": "[encoded data removed]",
      "text/plain": [
       "<Figure size 576x576 with 1 Axes>"
      ]
     },
     "metadata": {
      "needs_background": "light"
     },
     "output_type": "display_data"
    }
   ],
   "source": [
    "import matplotlib.pyplot as plt\n",
    "import numpy as np\n",
    "\n",
    "cmat = confusion_matrix(ans, preds)\n",
    "plt.figure(figsize=(8,8))\n",
    "plt.imshow(cmat, cmap=\"summer\")\n",
    "plt.gca().set_xticks(np.arange(17))\n",
    "plt.gca().set_yticks(np.arange(17))\n",
    "plt.gca().set_xticklabels(lang_encoder.classes_, rotation='45', ha='right', size=16)\n",
    "plt.gca().set_yticklabels(lang_encoder.classes_, size=16)\n",
    "plt.show()"
   ]
  },
  {
   "cell_type": "code",
   "execution_count": 23,
   "metadata": {
    "colab": {
     "base_uri": "https://localhost:8080/"
    },
    "executionInfo": {
     "elapsed": 524,
     "status": "ok",
     "timestamp": 1636804862940,
     "user": {
      "displayName": "Sean Tseng",
      "photoUrl": "https://lh3.googleusercontent.com/a-/AOh14GisdTmjr7lVhEI-xWAr-ufF73UTtr1WWn7upEGv23A=s64",
      "userId": "03959384370861675281"
     },
     "user_tz": -480
    },
    "id": "nKUFvXnjHuav",
    "outputId": "63b9c47a-904b-4c50-9852-ef56fdc61d5a"
   },
   "outputs": [
    {
     "name": "stdout",
     "output_type": "stream",
     "text": [
      "              precision    recall  f1-score   support\n",
      "\n",
      "        Amis       0.97      0.54      0.69       140\n",
      "      Atayal       0.99      0.84      0.91       192\n",
      "       Bunun       0.83      0.99      0.90       115\n",
      "         Cou       0.93      0.99      0.96       154\n",
      "    Hla'alua       0.94      0.92      0.93        89\n",
      "  Kanakanavu       1.00      0.93      0.96        95\n",
      "     Kavalan       0.99      0.98      0.98       145\n",
      "      Paiwan       0.94      0.97      0.96        35\n",
      " Pinuyumayan       0.65      0.98      0.78        54\n",
      "       Rukai       0.95      0.84      0.89       122\n",
      "    Sakizaya       0.98      0.96      0.97       155\n",
      "    Saysiyat       0.78      0.98      0.87       129\n",
      "      Seediq       0.86      0.78      0.82       102\n",
      "        Thau       0.87      0.99      0.93       110\n",
      "       Truku       0.77      0.99      0.86       205\n",
      "        Yami       1.00      0.93      0.96       215\n",
      "        misc       0.64      0.57      0.60       219\n",
      "\n",
      "    accuracy                           0.88      2276\n",
      "   macro avg       0.89      0.89      0.88      2276\n",
      "weighted avg       0.89      0.88      0.87      2276\n",
      "\n"
     ]
    }
   ],
   "source": [
    "print(classification_report(ans, preds))"
   ]
  },
  {
   "cell_type": "markdown",
   "metadata": {
    "id": "GT_R3mqBMtdd"
   },
   "source": [
    "## Make vectors"
   ]
  },
  {
   "cell_type": "code",
   "execution_count": 24,
   "metadata": {},
   "outputs": [],
   "source": [
    "import numpy as np\n",
    "last_hiddens = np.concatenate([x[\"last\"] for x in evals])\n",
    "h6_hiddens = np.concatenate([x[\"h0\"] for x in evals])\n",
    "h0_hiddens = np.concatenate([x[\"h6\"] for x in evals])"
   ]
  },
  {
   "cell_type": "code",
   "execution_count": 27,
   "metadata": {},
   "outputs": [],
   "source": [
    "import pickle\n",
    "vec_path = \"../data/vecs/abo16-an-02.vec.pkl\"\n",
    "\n",
    "with open(vec_path, \"wb\") as fout:\n",
    "    pickle.dump({\"preds\": preds, \"ans\": ans, \"last\": last_hiddens, \n",
    "                 \"h6\": h6_hiddens, \"h0\": h0_hiddens}, fout)"
   ]
  },
  {
   "cell_type": "code",
   "execution_count": null,
   "metadata": {},
   "outputs": [],
   "source": []
  }
 ],
 "metadata": {
  "accelerator": "GPU",
  "colab": {
   "authorship_tag": "ABX9TyPGMtMDCSMxRRGEqfylXmI2",
   "collapsed_sections": [],
   "mount_file_id": "1Bc_9xthrByUSphj2c3oQ0OerphNCKtjQ",
   "name": "20.13-modist-colab-abo16-pcm-tune-seantyh.ipynb",
   "provenance": [
    {
     "file_id": "1IdOAmQIzWL_wy9n2_5OHIbs9X47KfQTi",
     "timestamp": 1636726086526
    },
    {
     "file_id": "1hOOopow8uMtP2O7nznt-rBXfpen-rdBh",
     "timestamp": 1636512190919
    }
   ]
  },
  "kernelspec": {
   "display_name": "Python 3 (ipykernel)",
   "language": "python",
   "name": "python3"
  },
  "language_info": {
   "codemirror_mode": {
    "name": "ipython",
    "version": 3
   },
   "file_extension": ".py",
   "mimetype": "text/x-python",
   "name": "python",
   "nbconvert_exporter": "python",
   "pygments_lexer": "ipython3",
   "version": "3.9.5"
  },
  "widgets": {
   "application/vnd.jupyter.widget-state+json": {
    "0515d6be7dcc42d180b37b6f7a437966": {
     "model_module": "@jupyter-widgets/controls",
     "model_module_version": "1.5.0",
     "model_name": "HTMLModel",
     "state": {
      "_dom_classes": [],
      "_model_module": "@jupyter-widgets/controls",
      "_model_module_version": "1.5.0",
      "_model_name": "HTMLModel",
      "_view_count": null,
      "_view_module": "@jupyter-widgets/controls",
      "_view_module_version": "1.5.0",
      "_view_name": "HTMLView",
      "description": "",
      "description_tooltip": null,
      "layout": "IPY_MODEL_93b5e3ff10da4e4ab54f1636f3614839",
      "placeholder": "​",
      "style": "IPY_MODEL_bfc06ba48b274bbf8e5e628bde6c950e",
      "value": "Validating:  28%"
     }
    },
    "1065f603914042a38fa8c8add93c7d91": {
     "model_module": "@jupyter-widgets/controls",
     "model_module_version": "1.5.0",
     "model_name": "DescriptionStyleModel",
     "state": {
      "_model_module": "@jupyter-widgets/controls",
      "_model_module_version": "1.5.0",
      "_model_name": "DescriptionStyleModel",
      "_view_count": null,
      "_view_module": "@jupyter-widgets/base",
      "_view_module_version": "1.2.0",
      "_view_name": "StyleView",
      "description_width": ""
     }
    },
    "1561d43ba221490b8b548729f8ada266": {
     "model_module": "@jupyter-widgets/controls",
     "model_module_version": "1.5.0",
     "model_name": "DescriptionStyleModel",
     "state": {
      "_model_module": "@jupyter-widgets/controls",
      "_model_module_version": "1.5.0",
      "_model_name": "DescriptionStyleModel",
      "_view_count": null,
      "_view_module": "@jupyter-widgets/base",
      "_view_module_version": "1.2.0",
      "_view_name": "StyleView",
      "description_width": ""
     }
    },
    "16da6170e5994d85bb01a6b5eac57171": {
     "model_module": "@jupyter-widgets/base",
     "model_module_version": "1.2.0",
     "model_name": "LayoutModel",
     "state": {
      "_model_module": "@jupyter-widgets/base",
      "_model_module_version": "1.2.0",
      "_model_name": "LayoutModel",
      "_view_count": null,
      "_view_module": "@jupyter-widgets/base",
      "_view_module_version": "1.2.0",
      "_view_name": "LayoutView",
      "align_content": null,
      "align_items": null,
      "align_self": null,
      "border": null,
      "bottom": null,
      "display": null,
      "flex": null,
      "flex_flow": null,
      "grid_area": null,
      "grid_auto_columns": null,
      "grid_auto_flow": null,
      "grid_auto_rows": null,
      "grid_column": null,
      "grid_gap": null,
      "grid_row": null,
      "grid_template_areas": null,
      "grid_template_columns": null,
      "grid_template_rows": null,
      "height": null,
      "justify_content": null,
      "justify_items": null,
      "left": null,
      "margin": null,
      "max_height": null,
      "max_width": null,
      "min_height": null,
      "min_width": null,
      "object_fit": null,
      "object_position": null,
      "order": null,
      "overflow": null,
      "overflow_x": null,
      "overflow_y": null,
      "padding": null,
      "right": null,
      "top": null,
      "visibility": null,
      "width": null
     }
    },
    "17d3c86f24254bb1812c60cec270fadb": {
     "model_module": "@jupyter-widgets/base",
     "model_module_version": "1.2.0",
     "model_name": "LayoutModel",
     "state": {
      "_model_module": "@jupyter-widgets/base",
      "_model_module_version": "1.2.0",
      "_model_name": "LayoutModel",
      "_view_count": null,
      "_view_module": "@jupyter-widgets/base",
      "_view_module_version": "1.2.0",
      "_view_name": "LayoutView",
      "align_content": null,
      "align_items": null,
      "align_self": null,
      "border": null,
      "bottom": null,
      "display": null,
      "flex": "2",
      "flex_flow": null,
      "grid_area": null,
      "grid_auto_columns": null,
      "grid_auto_flow": null,
      "grid_auto_rows": null,
      "grid_column": null,
      "grid_gap": null,
      "grid_row": null,
      "grid_template_areas": null,
      "grid_template_columns": null,
      "grid_template_rows": null,
      "height": null,
      "justify_content": null,
      "justify_items": null,
      "left": null,
      "margin": null,
      "max_height": null,
      "max_width": null,
      "min_height": null,
      "min_width": null,
      "object_fit": null,
      "object_position": null,
      "order": null,
      "overflow": null,
      "overflow_x": null,
      "overflow_y": null,
      "padding": null,
      "right": null,
      "top": null,
      "visibility": null,
      "width": null
     }
    },
    "18f040dbdd5d45ba8307e2e47b6422d2": {
     "model_module": "@jupyter-widgets/base",
     "model_module_version": "1.2.0",
     "model_name": "LayoutModel",
     "state": {
      "_model_module": "@jupyter-widgets/base",
      "_model_module_version": "1.2.0",
      "_model_name": "LayoutModel",
      "_view_count": null,
      "_view_module": "@jupyter-widgets/base",
      "_view_module_version": "1.2.0",
      "_view_name": "LayoutView",
      "align_content": null,
      "align_items": null,
      "align_self": null,
      "border": null,
      "bottom": null,
      "display": null,
      "flex": "2",
      "flex_flow": null,
      "grid_area": null,
      "grid_auto_columns": null,
      "grid_auto_flow": null,
      "grid_auto_rows": null,
      "grid_column": null,
      "grid_gap": null,
      "grid_row": null,
      "grid_template_areas": null,
      "grid_template_columns": null,
      "grid_template_rows": null,
      "height": null,
      "justify_content": null,
      "justify_items": null,
      "left": null,
      "margin": null,
      "max_height": null,
      "max_width": null,
      "min_height": null,
      "min_width": null,
      "object_fit": null,
      "object_position": null,
      "order": null,
      "overflow": null,
      "overflow_x": null,
      "overflow_y": null,
      "padding": null,
      "right": null,
      "top": null,
      "visibility": null,
      "width": null
     }
    },
    "26584b11a35c4ab984aa3d8260b233bd": {
     "model_module": "@jupyter-widgets/controls",
     "model_module_version": "1.5.0",
     "model_name": "FloatProgressModel",
     "state": {
      "_dom_classes": [],
      "_model_module": "@jupyter-widgets/controls",
      "_model_module_version": "1.5.0",
      "_model_name": "FloatProgressModel",
      "_view_count": null,
      "_view_module": "@jupyter-widgets/controls",
      "_view_module_version": "1.5.0",
      "_view_name": "ProgressView",
      "bar_style": "",
      "description": "",
      "description_tooltip": null,
      "layout": "IPY_MODEL_18f040dbdd5d45ba8307e2e47b6422d2",
      "max": 1059,
      "min": 0,
      "orientation": "horizontal",
      "style": "IPY_MODEL_de5d0a61242b490c89556990055af04d",
      "value": 920
     }
    },
    "26e6fa8623fd41d3b98f54a55587d7df": {
     "model_module": "@jupyter-widgets/controls",
     "model_module_version": "1.5.0",
     "model_name": "ProgressStyleModel",
     "state": {
      "_model_module": "@jupyter-widgets/controls",
      "_model_module_version": "1.5.0",
      "_model_name": "ProgressStyleModel",
      "_view_count": null,
      "_view_module": "@jupyter-widgets/base",
      "_view_module_version": "1.2.0",
      "_view_name": "StyleView",
      "bar_color": null,
      "description_width": ""
     }
    },
    "2817b15568584ddc96494a4dc2c8f902": {
     "model_module": "@jupyter-widgets/controls",
     "model_module_version": "1.5.0",
     "model_name": "DescriptionStyleModel",
     "state": {
      "_model_module": "@jupyter-widgets/controls",
      "_model_module_version": "1.5.0",
      "_model_name": "DescriptionStyleModel",
      "_view_count": null,
      "_view_module": "@jupyter-widgets/base",
      "_view_module_version": "1.2.0",
      "_view_name": "StyleView",
      "description_width": ""
     }
    },
    "32d271872cc44a8a8c8f3160637bcade": {
     "model_module": "@jupyter-widgets/base",
     "model_module_version": "1.2.0",
     "model_name": "LayoutModel",
     "state": {
      "_model_module": "@jupyter-widgets/base",
      "_model_module_version": "1.2.0",
      "_model_name": "LayoutModel",
      "_view_count": null,
      "_view_module": "@jupyter-widgets/base",
      "_view_module_version": "1.2.0",
      "_view_name": "LayoutView",
      "align_content": null,
      "align_items": null,
      "align_self": null,
      "border": null,
      "bottom": null,
      "display": null,
      "flex": null,
      "flex_flow": null,
      "grid_area": null,
      "grid_auto_columns": null,
      "grid_auto_flow": null,
      "grid_auto_rows": null,
      "grid_column": null,
      "grid_gap": null,
      "grid_row": null,
      "grid_template_areas": null,
      "grid_template_columns": null,
      "grid_template_rows": null,
      "height": null,
      "justify_content": null,
      "justify_items": null,
      "left": null,
      "margin": null,
      "max_height": null,
      "max_width": null,
      "min_height": null,
      "min_width": null,
      "object_fit": null,
      "object_position": null,
      "order": null,
      "overflow": null,
      "overflow_x": null,
      "overflow_y": null,
      "padding": null,
      "right": null,
      "top": null,
      "visibility": null,
      "width": null
     }
    },
    "35d5e7b9e07c443083fef7ce79fc9acd": {
     "model_module": "@jupyter-widgets/controls",
     "model_module_version": "1.5.0",
     "model_name": "HTMLModel",
     "state": {
      "_dom_classes": [],
      "_model_module": "@jupyter-widgets/controls",
      "_model_module_version": "1.5.0",
      "_model_name": "HTMLModel",
      "_view_count": null,
      "_view_module": "@jupyter-widgets/controls",
      "_view_module_version": "1.5.0",
      "_view_name": "HTMLView",
      "description": "",
      "description_tooltip": null,
      "layout": "IPY_MODEL_f638bb06f5a94c7480602abfcab9240f",
      "placeholder": "​",
      "style": "IPY_MODEL_c598adcad1d24a6fba5d41ef3eb777f8",
      "value": " 0/2 [00:01&lt;?, ?it/s]"
     }
    },
    "35e10cc17d4f4c29b0e3e6dc526bfe2d": {
     "model_module": "@jupyter-widgets/base",
     "model_module_version": "1.2.0",
     "model_name": "LayoutModel",
     "state": {
      "_model_module": "@jupyter-widgets/base",
      "_model_module_version": "1.2.0",
      "_model_name": "LayoutModel",
      "_view_count": null,
      "_view_module": "@jupyter-widgets/base",
      "_view_module_version": "1.2.0",
      "_view_name": "LayoutView",
      "align_content": null,
      "align_items": null,
      "align_self": null,
      "border": null,
      "bottom": null,
      "display": "inline-flex",
      "flex": null,
      "flex_flow": "row wrap",
      "grid_area": null,
      "grid_auto_columns": null,
      "grid_auto_flow": null,
      "grid_auto_rows": null,
      "grid_column": null,
      "grid_gap": null,
      "grid_row": null,
      "grid_template_areas": null,
      "grid_template_columns": null,
      "grid_template_rows": null,
      "height": null,
      "justify_content": null,
      "justify_items": null,
      "left": null,
      "margin": null,
      "max_height": null,
      "max_width": null,
      "min_height": null,
      "min_width": null,
      "object_fit": null,
      "object_position": null,
      "order": null,
      "overflow": null,
      "overflow_x": null,
      "overflow_y": null,
      "padding": null,
      "right": null,
      "top": null,
      "visibility": null,
      "width": "100%"
     }
    },
    "37094d23881249218c0cf45bdfa156f4": {
     "model_module": "@jupyter-widgets/controls",
     "model_module_version": "1.5.0",
     "model_name": "HBoxModel",
     "state": {
      "_dom_classes": [],
      "_model_module": "@jupyter-widgets/controls",
      "_model_module_version": "1.5.0",
      "_model_name": "HBoxModel",
      "_view_count": null,
      "_view_module": "@jupyter-widgets/controls",
      "_view_module_version": "1.5.0",
      "_view_name": "HBoxView",
      "box_style": "",
      "children": [
       "IPY_MODEL_0515d6be7dcc42d180b37b6f7a437966",
       "IPY_MODEL_e9080c14abdd4a488fcd2531fede2057",
       "IPY_MODEL_bbf7bee5f7f34c46a42386d14145b21e"
      ],
      "layout": "IPY_MODEL_e04e02043fb04aef927c962393f5ffc6"
     }
    },
    "38c71ed9d444486babc199305a8552a6": {
     "model_module": "@jupyter-widgets/controls",
     "model_module_version": "1.5.0",
     "model_name": "DescriptionStyleModel",
     "state": {
      "_model_module": "@jupyter-widgets/controls",
      "_model_module_version": "1.5.0",
      "_model_name": "DescriptionStyleModel",
      "_view_count": null,
      "_view_module": "@jupyter-widgets/base",
      "_view_module_version": "1.2.0",
      "_view_name": "StyleView",
      "description_width": ""
     }
    },
    "442218ea78704797a61905e13660d15b": {
     "model_module": "@jupyter-widgets/controls",
     "model_module_version": "1.5.0",
     "model_name": "HTMLModel",
     "state": {
      "_dom_classes": [],
      "_model_module": "@jupyter-widgets/controls",
      "_model_module_version": "1.5.0",
      "_model_name": "HTMLModel",
      "_view_count": null,
      "_view_module": "@jupyter-widgets/controls",
      "_view_module_version": "1.5.0",
      "_view_name": "HTMLView",
      "description": "",
      "description_tooltip": null,
      "layout": "IPY_MODEL_7ede05b529844b7fb2b94ee342863b66",
      "placeholder": "​",
      "style": "IPY_MODEL_c605a77e909b482a8929ac142820c4f2",
      "value": "Validation sanity check:   0%"
     }
    },
    "50845223c56f4628b981f813baa7f517": {
     "model_module": "@jupyter-widgets/base",
     "model_module_version": "1.2.0",
     "model_name": "LayoutModel",
     "state": {
      "_model_module": "@jupyter-widgets/base",
      "_model_module_version": "1.2.0",
      "_model_name": "LayoutModel",
      "_view_count": null,
      "_view_module": "@jupyter-widgets/base",
      "_view_module_version": "1.2.0",
      "_view_name": "LayoutView",
      "align_content": null,
      "align_items": null,
      "align_self": null,
      "border": null,
      "bottom": null,
      "display": null,
      "flex": null,
      "flex_flow": null,
      "grid_area": null,
      "grid_auto_columns": null,
      "grid_auto_flow": null,
      "grid_auto_rows": null,
      "grid_column": null,
      "grid_gap": null,
      "grid_row": null,
      "grid_template_areas": null,
      "grid_template_columns": null,
      "grid_template_rows": null,
      "height": null,
      "justify_content": null,
      "justify_items": null,
      "left": null,
      "margin": null,
      "max_height": null,
      "max_width": null,
      "min_height": null,
      "min_width": null,
      "object_fit": null,
      "object_position": null,
      "order": null,
      "overflow": null,
      "overflow_x": null,
      "overflow_y": null,
      "padding": null,
      "right": null,
      "top": null,
      "visibility": null,
      "width": null
     }
    },
    "50ed109e4e1041ce96ef515565919219": {
     "model_module": "@jupyter-widgets/base",
     "model_module_version": "1.2.0",
     "model_name": "LayoutModel",
     "state": {
      "_model_module": "@jupyter-widgets/base",
      "_model_module_version": "1.2.0",
      "_model_name": "LayoutModel",
      "_view_count": null,
      "_view_module": "@jupyter-widgets/base",
      "_view_module_version": "1.2.0",
      "_view_name": "LayoutView",
      "align_content": null,
      "align_items": null,
      "align_self": null,
      "border": null,
      "bottom": null,
      "display": null,
      "flex": null,
      "flex_flow": null,
      "grid_area": null,
      "grid_auto_columns": null,
      "grid_auto_flow": null,
      "grid_auto_rows": null,
      "grid_column": null,
      "grid_gap": null,
      "grid_row": null,
      "grid_template_areas": null,
      "grid_template_columns": null,
      "grid_template_rows": null,
      "height": null,
      "justify_content": null,
      "justify_items": null,
      "left": null,
      "margin": null,
      "max_height": null,
      "max_width": null,
      "min_height": null,
      "min_width": null,
      "object_fit": null,
      "object_position": null,
      "order": null,
      "overflow": null,
      "overflow_x": null,
      "overflow_y": null,
      "padding": null,
      "right": null,
      "top": null,
      "visibility": null,
      "width": null
     }
    },
    "5e39ae24c7194ac8a33f486437a3ba2a": {
     "model_module": "@jupyter-widgets/controls",
     "model_module_version": "1.5.0",
     "model_name": "HTMLModel",
     "state": {
      "_dom_classes": [],
      "_model_module": "@jupyter-widgets/controls",
      "_model_module_version": "1.5.0",
      "_model_name": "HTMLModel",
      "_view_count": null,
      "_view_module": "@jupyter-widgets/controls",
      "_view_module_version": "1.5.0",
      "_view_name": "HTMLView",
      "description": "",
      "description_tooltip": null,
      "layout": "IPY_MODEL_c4573607966c4ec0bfcc1e6103613bad",
      "placeholder": "​",
      "style": "IPY_MODEL_38c71ed9d444486babc199305a8552a6",
      "value": " 920/1059 [11:44&lt;01:46,  1.31it/s, loss=2.61, v_num=em88]"
     }
    },
    "61d381c9a279485d87dad8b548e14781": {
     "model_module": "@jupyter-widgets/controls",
     "model_module_version": "1.5.0",
     "model_name": "HTMLModel",
     "state": {
      "_dom_classes": [],
      "_model_module": "@jupyter-widgets/controls",
      "_model_module_version": "1.5.0",
      "_model_name": "HTMLModel",
      "_view_count": null,
      "_view_module": "@jupyter-widgets/controls",
      "_view_module_version": "1.5.0",
      "_view_name": "HTMLView",
      "description": "",
      "description_tooltip": null,
      "layout": "IPY_MODEL_32d271872cc44a8a8c8f3160637bcade",
      "placeholder": "​",
      "style": "IPY_MODEL_85fbd5cf194942f7b5c254a76b33ca5b",
      "value": " 211/211 [01:22&lt;00:00,  2.56it/s]"
     }
    },
    "6600ef08684d46709f342b3239108b9e": {
     "model_module": "@jupyter-widgets/controls",
     "model_module_version": "1.5.0",
     "model_name": "DescriptionStyleModel",
     "state": {
      "_model_module": "@jupyter-widgets/controls",
      "_model_module_version": "1.5.0",
      "_model_name": "DescriptionStyleModel",
      "_view_count": null,
      "_view_module": "@jupyter-widgets/base",
      "_view_module_version": "1.2.0",
      "_view_name": "StyleView",
      "description_width": ""
     }
    },
    "67757eaf73fe4575b8a622b46553e241": {
     "model_module": "@jupyter-widgets/controls",
     "model_module_version": "1.5.0",
     "model_name": "HBoxModel",
     "state": {
      "_dom_classes": [],
      "_model_module": "@jupyter-widgets/controls",
      "_model_module_version": "1.5.0",
      "_model_name": "HBoxModel",
      "_view_count": null,
      "_view_module": "@jupyter-widgets/controls",
      "_view_module_version": "1.5.0",
      "_view_name": "HBoxView",
      "box_style": "",
      "children": [
       "IPY_MODEL_442218ea78704797a61905e13660d15b",
       "IPY_MODEL_a50acad514db4bd68eaa4878f4af0584",
       "IPY_MODEL_35d5e7b9e07c443083fef7ce79fc9acd"
      ],
      "layout": "IPY_MODEL_cd6a0b4996ff4ec8892d0a8ddf090b21"
     }
    },
    "68b4a9a266ae43da9fd07bca98107b20": {
     "model_module": "@jupyter-widgets/controls",
     "model_module_version": "1.5.0",
     "model_name": "HTMLModel",
     "state": {
      "_dom_classes": [],
      "_model_module": "@jupyter-widgets/controls",
      "_model_module_version": "1.5.0",
      "_model_name": "HTMLModel",
      "_view_count": null,
      "_view_module": "@jupyter-widgets/controls",
      "_view_module_version": "1.5.0",
      "_view_name": "HTMLView",
      "description": "",
      "description_tooltip": null,
      "layout": "IPY_MODEL_16da6170e5994d85bb01a6b5eac57171",
      "placeholder": "​",
      "style": "IPY_MODEL_1561d43ba221490b8b548729f8ada266",
      "value": "Validating: 100%"
     }
    },
    "699a488fd38146458373449127a1f74c": {
     "model_module": "@jupyter-widgets/controls",
     "model_module_version": "1.5.0",
     "model_name": "FloatProgressModel",
     "state": {
      "_dom_classes": [],
      "_model_module": "@jupyter-widgets/controls",
      "_model_module_version": "1.5.0",
      "_model_name": "FloatProgressModel",
      "_view_count": null,
      "_view_module": "@jupyter-widgets/controls",
      "_view_module_version": "1.5.0",
      "_view_name": "ProgressView",
      "bar_style": "success",
      "description": "",
      "description_tooltip": null,
      "layout": "IPY_MODEL_936a1345f01d46dc9b3969ee9fd995c5",
      "max": 1,
      "min": 0,
      "orientation": "horizontal",
      "style": "IPY_MODEL_93804697578e4dbc916498b94f177a0a",
      "value": 1
     }
    },
    "731d7c4e2c594dfbb3741b708b772aa4": {
     "model_module": "@jupyter-widgets/controls",
     "model_module_version": "1.5.0",
     "model_name": "HBoxModel",
     "state": {
      "_dom_classes": [],
      "_model_module": "@jupyter-widgets/controls",
      "_model_module_version": "1.5.0",
      "_model_name": "HBoxModel",
      "_view_count": null,
      "_view_module": "@jupyter-widgets/controls",
      "_view_module_version": "1.5.0",
      "_view_name": "HBoxView",
      "box_style": "",
      "children": [
       "IPY_MODEL_9f6cb80521d449d8befc0272d26a6a31",
       "IPY_MODEL_699a488fd38146458373449127a1f74c",
       "IPY_MODEL_847fbf4c6ab24564bae6bd85e945d2b6"
      ],
      "layout": "IPY_MODEL_87a34dcb234741ffbed7de8fe1bc0d06"
     }
    },
    "7ede05b529844b7fb2b94ee342863b66": {
     "model_module": "@jupyter-widgets/base",
     "model_module_version": "1.2.0",
     "model_name": "LayoutModel",
     "state": {
      "_model_module": "@jupyter-widgets/base",
      "_model_module_version": "1.2.0",
      "_model_name": "LayoutModel",
      "_view_count": null,
      "_view_module": "@jupyter-widgets/base",
      "_view_module_version": "1.2.0",
      "_view_name": "LayoutView",
      "align_content": null,
      "align_items": null,
      "align_self": null,
      "border": null,
      "bottom": null,
      "display": null,
      "flex": null,
      "flex_flow": null,
      "grid_area": null,
      "grid_auto_columns": null,
      "grid_auto_flow": null,
      "grid_auto_rows": null,
      "grid_column": null,
      "grid_gap": null,
      "grid_row": null,
      "grid_template_areas": null,
      "grid_template_columns": null,
      "grid_template_rows": null,
      "height": null,
      "justify_content": null,
      "justify_items": null,
      "left": null,
      "margin": null,
      "max_height": null,
      "max_width": null,
      "min_height": null,
      "min_width": null,
      "object_fit": null,
      "object_position": null,
      "order": null,
      "overflow": null,
      "overflow_x": null,
      "overflow_y": null,
      "padding": null,
      "right": null,
      "top": null,
      "visibility": null,
      "width": null
     }
    },
    "80659eeca19d4226b2908ac83b3def7b": {
     "model_module": "@jupyter-widgets/base",
     "model_module_version": "1.2.0",
     "model_name": "LayoutModel",
     "state": {
      "_model_module": "@jupyter-widgets/base",
      "_model_module_version": "1.2.0",
      "_model_name": "LayoutModel",
      "_view_count": null,
      "_view_module": "@jupyter-widgets/base",
      "_view_module_version": "1.2.0",
      "_view_name": "LayoutView",
      "align_content": null,
      "align_items": null,
      "align_self": null,
      "border": null,
      "bottom": null,
      "display": "inline-flex",
      "flex": null,
      "flex_flow": "row wrap",
      "grid_area": null,
      "grid_auto_columns": null,
      "grid_auto_flow": null,
      "grid_auto_rows": null,
      "grid_column": null,
      "grid_gap": null,
      "grid_row": null,
      "grid_template_areas": null,
      "grid_template_columns": null,
      "grid_template_rows": null,
      "height": null,
      "justify_content": null,
      "justify_items": null,
      "left": null,
      "margin": null,
      "max_height": null,
      "max_width": null,
      "min_height": null,
      "min_width": null,
      "object_fit": null,
      "object_position": null,
      "order": null,
      "overflow": null,
      "overflow_x": null,
      "overflow_y": null,
      "padding": null,
      "right": null,
      "top": null,
      "visibility": null,
      "width": "100%"
     }
    },
    "8124506bf5434bd2bdb8e4db675fc014": {
     "model_module": "@jupyter-widgets/base",
     "model_module_version": "1.2.0",
     "model_name": "LayoutModel",
     "state": {
      "_model_module": "@jupyter-widgets/base",
      "_model_module_version": "1.2.0",
      "_model_name": "LayoutModel",
      "_view_count": null,
      "_view_module": "@jupyter-widgets/base",
      "_view_module_version": "1.2.0",
      "_view_name": "LayoutView",
      "align_content": null,
      "align_items": null,
      "align_self": null,
      "border": null,
      "bottom": null,
      "display": null,
      "flex": "2",
      "flex_flow": null,
      "grid_area": null,
      "grid_auto_columns": null,
      "grid_auto_flow": null,
      "grid_auto_rows": null,
      "grid_column": null,
      "grid_gap": null,
      "grid_row": null,
      "grid_template_areas": null,
      "grid_template_columns": null,
      "grid_template_rows": null,
      "height": null,
      "justify_content": null,
      "justify_items": null,
      "left": null,
      "margin": null,
      "max_height": null,
      "max_width": null,
      "min_height": null,
      "min_width": null,
      "object_fit": null,
      "object_position": null,
      "order": null,
      "overflow": null,
      "overflow_x": null,
      "overflow_y": null,
      "padding": null,
      "right": null,
      "top": null,
      "visibility": null,
      "width": null
     }
    },
    "82e31e33cc6e4cfab12849a38b678b8a": {
     "model_module": "@jupyter-widgets/controls",
     "model_module_version": "1.5.0",
     "model_name": "FloatProgressModel",
     "state": {
      "_dom_classes": [],
      "_model_module": "@jupyter-widgets/controls",
      "_model_module_version": "1.5.0",
      "_model_name": "FloatProgressModel",
      "_view_count": null,
      "_view_module": "@jupyter-widgets/controls",
      "_view_module_version": "1.5.0",
      "_view_name": "ProgressView",
      "bar_style": "",
      "description": "",
      "description_tooltip": null,
      "layout": "IPY_MODEL_8f3fdcee7887467895994bf8aa2d5c9f",
      "max": 211,
      "min": 0,
      "orientation": "horizontal",
      "style": "IPY_MODEL_982dc98f540d4eefa6b576b235104383",
      "value": 211
     }
    },
    "847fbf4c6ab24564bae6bd85e945d2b6": {
     "model_module": "@jupyter-widgets/controls",
     "model_module_version": "1.5.0",
     "model_name": "HTMLModel",
     "state": {
      "_dom_classes": [],
      "_model_module": "@jupyter-widgets/controls",
      "_model_module_version": "1.5.0",
      "_model_name": "HTMLModel",
      "_view_count": null,
      "_view_module": "@jupyter-widgets/controls",
      "_view_module_version": "1.5.0",
      "_view_name": "HTMLView",
      "description": "",
      "description_tooltip": null,
      "layout": "IPY_MODEL_50ed109e4e1041ce96ef515565919219",
      "placeholder": "​",
      "style": "IPY_MODEL_92706977d44b4d3494f7cc86f26e3f63",
      "value": " 212/212 [00:46&lt;00:00,  4.58it/s]"
     }
    },
    "85fbd5cf194942f7b5c254a76b33ca5b": {
     "model_module": "@jupyter-widgets/controls",
     "model_module_version": "1.5.0",
     "model_name": "DescriptionStyleModel",
     "state": {
      "_model_module": "@jupyter-widgets/controls",
      "_model_module_version": "1.5.0",
      "_model_name": "DescriptionStyleModel",
      "_view_count": null,
      "_view_module": "@jupyter-widgets/base",
      "_view_module_version": "1.2.0",
      "_view_name": "StyleView",
      "description_width": ""
     }
    },
    "87a34dcb234741ffbed7de8fe1bc0d06": {
     "model_module": "@jupyter-widgets/base",
     "model_module_version": "1.2.0",
     "model_name": "LayoutModel",
     "state": {
      "_model_module": "@jupyter-widgets/base",
      "_model_module_version": "1.2.0",
      "_model_name": "LayoutModel",
      "_view_count": null,
      "_view_module": "@jupyter-widgets/base",
      "_view_module_version": "1.2.0",
      "_view_name": "LayoutView",
      "align_content": null,
      "align_items": null,
      "align_self": null,
      "border": null,
      "bottom": null,
      "display": "inline-flex",
      "flex": null,
      "flex_flow": "row wrap",
      "grid_area": null,
      "grid_auto_columns": null,
      "grid_auto_flow": null,
      "grid_auto_rows": null,
      "grid_column": null,
      "grid_gap": null,
      "grid_row": null,
      "grid_template_areas": null,
      "grid_template_columns": null,
      "grid_template_rows": null,
      "height": null,
      "justify_content": null,
      "justify_items": null,
      "left": null,
      "margin": null,
      "max_height": null,
      "max_width": null,
      "min_height": null,
      "min_width": null,
      "object_fit": null,
      "object_position": null,
      "order": null,
      "overflow": null,
      "overflow_x": null,
      "overflow_y": null,
      "padding": null,
      "right": null,
      "top": null,
      "visibility": null,
      "width": "100%"
     }
    },
    "8d5269f7d05a4bf6816f0a229dc41bc3": {
     "model_module": "@jupyter-widgets/controls",
     "model_module_version": "1.5.0",
     "model_name": "HBoxModel",
     "state": {
      "_dom_classes": [],
      "_model_module": "@jupyter-widgets/controls",
      "_model_module_version": "1.5.0",
      "_model_name": "HBoxModel",
      "_view_count": null,
      "_view_module": "@jupyter-widgets/controls",
      "_view_module_version": "1.5.0",
      "_view_name": "HBoxView",
      "box_style": "",
      "children": [
       "IPY_MODEL_68b4a9a266ae43da9fd07bca98107b20",
       "IPY_MODEL_82e31e33cc6e4cfab12849a38b678b8a",
       "IPY_MODEL_61d381c9a279485d87dad8b548e14781"
      ],
      "layout": "IPY_MODEL_80659eeca19d4226b2908ac83b3def7b"
     }
    },
    "8f3fdcee7887467895994bf8aa2d5c9f": {
     "model_module": "@jupyter-widgets/base",
     "model_module_version": "1.2.0",
     "model_name": "LayoutModel",
     "state": {
      "_model_module": "@jupyter-widgets/base",
      "_model_module_version": "1.2.0",
      "_model_name": "LayoutModel",
      "_view_count": null,
      "_view_module": "@jupyter-widgets/base",
      "_view_module_version": "1.2.0",
      "_view_name": "LayoutView",
      "align_content": null,
      "align_items": null,
      "align_self": null,
      "border": null,
      "bottom": null,
      "display": null,
      "flex": "2",
      "flex_flow": null,
      "grid_area": null,
      "grid_auto_columns": null,
      "grid_auto_flow": null,
      "grid_auto_rows": null,
      "grid_column": null,
      "grid_gap": null,
      "grid_row": null,
      "grid_template_areas": null,
      "grid_template_columns": null,
      "grid_template_rows": null,
      "height": null,
      "justify_content": null,
      "justify_items": null,
      "left": null,
      "margin": null,
      "max_height": null,
      "max_width": null,
      "min_height": null,
      "min_width": null,
      "object_fit": null,
      "object_position": null,
      "order": null,
      "overflow": null,
      "overflow_x": null,
      "overflow_y": null,
      "padding": null,
      "right": null,
      "top": null,
      "visibility": null,
      "width": null
     }
    },
    "92706977d44b4d3494f7cc86f26e3f63": {
     "model_module": "@jupyter-widgets/controls",
     "model_module_version": "1.5.0",
     "model_name": "DescriptionStyleModel",
     "state": {
      "_model_module": "@jupyter-widgets/controls",
      "_model_module_version": "1.5.0",
      "_model_name": "DescriptionStyleModel",
      "_view_count": null,
      "_view_module": "@jupyter-widgets/base",
      "_view_module_version": "1.2.0",
      "_view_name": "StyleView",
      "description_width": ""
     }
    },
    "936a1345f01d46dc9b3969ee9fd995c5": {
     "model_module": "@jupyter-widgets/base",
     "model_module_version": "1.2.0",
     "model_name": "LayoutModel",
     "state": {
      "_model_module": "@jupyter-widgets/base",
      "_model_module_version": "1.2.0",
      "_model_name": "LayoutModel",
      "_view_count": null,
      "_view_module": "@jupyter-widgets/base",
      "_view_module_version": "1.2.0",
      "_view_name": "LayoutView",
      "align_content": null,
      "align_items": null,
      "align_self": null,
      "border": null,
      "bottom": null,
      "display": null,
      "flex": "2",
      "flex_flow": null,
      "grid_area": null,
      "grid_auto_columns": null,
      "grid_auto_flow": null,
      "grid_auto_rows": null,
      "grid_column": null,
      "grid_gap": null,
      "grid_row": null,
      "grid_template_areas": null,
      "grid_template_columns": null,
      "grid_template_rows": null,
      "height": null,
      "justify_content": null,
      "justify_items": null,
      "left": null,
      "margin": null,
      "max_height": null,
      "max_width": null,
      "min_height": null,
      "min_width": null,
      "object_fit": null,
      "object_position": null,
      "order": null,
      "overflow": null,
      "overflow_x": null,
      "overflow_y": null,
      "padding": null,
      "right": null,
      "top": null,
      "visibility": null,
      "width": null
     }
    },
    "93804697578e4dbc916498b94f177a0a": {
     "model_module": "@jupyter-widgets/controls",
     "model_module_version": "1.5.0",
     "model_name": "ProgressStyleModel",
     "state": {
      "_model_module": "@jupyter-widgets/controls",
      "_model_module_version": "1.5.0",
      "_model_name": "ProgressStyleModel",
      "_view_count": null,
      "_view_module": "@jupyter-widgets/base",
      "_view_module_version": "1.2.0",
      "_view_name": "StyleView",
      "bar_color": null,
      "description_width": ""
     }
    },
    "93b5e3ff10da4e4ab54f1636f3614839": {
     "model_module": "@jupyter-widgets/base",
     "model_module_version": "1.2.0",
     "model_name": "LayoutModel",
     "state": {
      "_model_module": "@jupyter-widgets/base",
      "_model_module_version": "1.2.0",
      "_model_name": "LayoutModel",
      "_view_count": null,
      "_view_module": "@jupyter-widgets/base",
      "_view_module_version": "1.2.0",
      "_view_name": "LayoutView",
      "align_content": null,
      "align_items": null,
      "align_self": null,
      "border": null,
      "bottom": null,
      "display": null,
      "flex": null,
      "flex_flow": null,
      "grid_area": null,
      "grid_auto_columns": null,
      "grid_auto_flow": null,
      "grid_auto_rows": null,
      "grid_column": null,
      "grid_gap": null,
      "grid_row": null,
      "grid_template_areas": null,
      "grid_template_columns": null,
      "grid_template_rows": null,
      "height": null,
      "justify_content": null,
      "justify_items": null,
      "left": null,
      "margin": null,
      "max_height": null,
      "max_width": null,
      "min_height": null,
      "min_width": null,
      "object_fit": null,
      "object_position": null,
      "order": null,
      "overflow": null,
      "overflow_x": null,
      "overflow_y": null,
      "padding": null,
      "right": null,
      "top": null,
      "visibility": null,
      "width": null
     }
    },
    "982dc98f540d4eefa6b576b235104383": {
     "model_module": "@jupyter-widgets/controls",
     "model_module_version": "1.5.0",
     "model_name": "ProgressStyleModel",
     "state": {
      "_model_module": "@jupyter-widgets/controls",
      "_model_module_version": "1.5.0",
      "_model_name": "ProgressStyleModel",
      "_view_count": null,
      "_view_module": "@jupyter-widgets/base",
      "_view_module_version": "1.2.0",
      "_view_name": "StyleView",
      "bar_color": null,
      "description_width": ""
     }
    },
    "9f6cb80521d449d8befc0272d26a6a31": {
     "model_module": "@jupyter-widgets/controls",
     "model_module_version": "1.5.0",
     "model_name": "HTMLModel",
     "state": {
      "_dom_classes": [],
      "_model_module": "@jupyter-widgets/controls",
      "_model_module_version": "1.5.0",
      "_model_name": "HTMLModel",
      "_view_count": null,
      "_view_module": "@jupyter-widgets/controls",
      "_view_module_version": "1.5.0",
      "_view_name": "HTMLView",
      "description": "",
      "description_tooltip": null,
      "layout": "IPY_MODEL_f39f1a17770e4f65be93d17478f0b317",
      "placeholder": "​",
      "style": "IPY_MODEL_6600ef08684d46709f342b3239108b9e",
      "value": "Predicting: 100%"
     }
    },
    "a50acad514db4bd68eaa4878f4af0584": {
     "model_module": "@jupyter-widgets/controls",
     "model_module_version": "1.5.0",
     "model_name": "FloatProgressModel",
     "state": {
      "_dom_classes": [],
      "_model_module": "@jupyter-widgets/controls",
      "_model_module_version": "1.5.0",
      "_model_name": "FloatProgressModel",
      "_view_count": null,
      "_view_module": "@jupyter-widgets/controls",
      "_view_module_version": "1.5.0",
      "_view_name": "ProgressView",
      "bar_style": "danger",
      "description": "",
      "description_tooltip": null,
      "layout": "IPY_MODEL_17d3c86f24254bb1812c60cec270fadb",
      "max": 2,
      "min": 0,
      "orientation": "horizontal",
      "style": "IPY_MODEL_26e6fa8623fd41d3b98f54a55587d7df",
      "value": 0
     }
    },
    "bbf7bee5f7f34c46a42386d14145b21e": {
     "model_module": "@jupyter-widgets/controls",
     "model_module_version": "1.5.0",
     "model_name": "HTMLModel",
     "state": {
      "_dom_classes": [],
      "_model_module": "@jupyter-widgets/controls",
      "_model_module_version": "1.5.0",
      "_model_name": "HTMLModel",
      "_view_count": null,
      "_view_module": "@jupyter-widgets/controls",
      "_view_module_version": "1.5.0",
      "_view_name": "HTMLView",
      "description": "",
      "description_tooltip": null,
      "layout": "IPY_MODEL_fa3e3929200242bba7077dbfad72190a",
      "placeholder": "​",
      "style": "IPY_MODEL_1065f603914042a38fa8c8add93c7d91",
      "value": " 60/211 [00:23&lt;00:59,  2.54it/s]"
     }
    },
    "bfc06ba48b274bbf8e5e628bde6c950e": {
     "model_module": "@jupyter-widgets/controls",
     "model_module_version": "1.5.0",
     "model_name": "DescriptionStyleModel",
     "state": {
      "_model_module": "@jupyter-widgets/controls",
      "_model_module_version": "1.5.0",
      "_model_name": "DescriptionStyleModel",
      "_view_count": null,
      "_view_module": "@jupyter-widgets/base",
      "_view_module_version": "1.2.0",
      "_view_name": "StyleView",
      "description_width": ""
     }
    },
    "c1453d56f5a04ab9bcd988d21d3120cc": {
     "model_module": "@jupyter-widgets/controls",
     "model_module_version": "1.5.0",
     "model_name": "HBoxModel",
     "state": {
      "_dom_classes": [],
      "_model_module": "@jupyter-widgets/controls",
      "_model_module_version": "1.5.0",
      "_model_name": "HBoxModel",
      "_view_count": null,
      "_view_module": "@jupyter-widgets/controls",
      "_view_module_version": "1.5.0",
      "_view_name": "HBoxView",
      "box_style": "",
      "children": [
       "IPY_MODEL_dc505d08e4cb4bd08613dd056716a194",
       "IPY_MODEL_26584b11a35c4ab984aa3d8260b233bd",
       "IPY_MODEL_5e39ae24c7194ac8a33f486437a3ba2a"
      ],
      "layout": "IPY_MODEL_35e10cc17d4f4c29b0e3e6dc526bfe2d"
     }
    },
    "c4573607966c4ec0bfcc1e6103613bad": {
     "model_module": "@jupyter-widgets/base",
     "model_module_version": "1.2.0",
     "model_name": "LayoutModel",
     "state": {
      "_model_module": "@jupyter-widgets/base",
      "_model_module_version": "1.2.0",
      "_model_name": "LayoutModel",
      "_view_count": null,
      "_view_module": "@jupyter-widgets/base",
      "_view_module_version": "1.2.0",
      "_view_name": "LayoutView",
      "align_content": null,
      "align_items": null,
      "align_self": null,
      "border": null,
      "bottom": null,
      "display": null,
      "flex": null,
      "flex_flow": null,
      "grid_area": null,
      "grid_auto_columns": null,
      "grid_auto_flow": null,
      "grid_auto_rows": null,
      "grid_column": null,
      "grid_gap": null,
      "grid_row": null,
      "grid_template_areas": null,
      "grid_template_columns": null,
      "grid_template_rows": null,
      "height": null,
      "justify_content": null,
      "justify_items": null,
      "left": null,
      "margin": null,
      "max_height": null,
      "max_width": null,
      "min_height": null,
      "min_width": null,
      "object_fit": null,
      "object_position": null,
      "order": null,
      "overflow": null,
      "overflow_x": null,
      "overflow_y": null,
      "padding": null,
      "right": null,
      "top": null,
      "visibility": null,
      "width": null
     }
    },
    "c598adcad1d24a6fba5d41ef3eb777f8": {
     "model_module": "@jupyter-widgets/controls",
     "model_module_version": "1.5.0",
     "model_name": "DescriptionStyleModel",
     "state": {
      "_model_module": "@jupyter-widgets/controls",
      "_model_module_version": "1.5.0",
      "_model_name": "DescriptionStyleModel",
      "_view_count": null,
      "_view_module": "@jupyter-widgets/base",
      "_view_module_version": "1.2.0",
      "_view_name": "StyleView",
      "description_width": ""
     }
    },
    "c605a77e909b482a8929ac142820c4f2": {
     "model_module": "@jupyter-widgets/controls",
     "model_module_version": "1.5.0",
     "model_name": "DescriptionStyleModel",
     "state": {
      "_model_module": "@jupyter-widgets/controls",
      "_model_module_version": "1.5.0",
      "_model_name": "DescriptionStyleModel",
      "_view_count": null,
      "_view_module": "@jupyter-widgets/base",
      "_view_module_version": "1.2.0",
      "_view_name": "StyleView",
      "description_width": ""
     }
    },
    "cd6a0b4996ff4ec8892d0a8ddf090b21": {
     "model_module": "@jupyter-widgets/base",
     "model_module_version": "1.2.0",
     "model_name": "LayoutModel",
     "state": {
      "_model_module": "@jupyter-widgets/base",
      "_model_module_version": "1.2.0",
      "_model_name": "LayoutModel",
      "_view_count": null,
      "_view_module": "@jupyter-widgets/base",
      "_view_module_version": "1.2.0",
      "_view_name": "LayoutView",
      "align_content": null,
      "align_items": null,
      "align_self": null,
      "border": null,
      "bottom": null,
      "display": "inline-flex",
      "flex": null,
      "flex_flow": "row wrap",
      "grid_area": null,
      "grid_auto_columns": null,
      "grid_auto_flow": null,
      "grid_auto_rows": null,
      "grid_column": null,
      "grid_gap": null,
      "grid_row": null,
      "grid_template_areas": null,
      "grid_template_columns": null,
      "grid_template_rows": null,
      "height": null,
      "justify_content": null,
      "justify_items": null,
      "left": null,
      "margin": null,
      "max_height": null,
      "max_width": null,
      "min_height": null,
      "min_width": null,
      "object_fit": null,
      "object_position": null,
      "order": null,
      "overflow": null,
      "overflow_x": null,
      "overflow_y": null,
      "padding": null,
      "right": null,
      "top": null,
      "visibility": null,
      "width": "100%"
     }
    },
    "d354fb2ade1f40e288abf394fcf8e8f8": {
     "model_module": "@jupyter-widgets/controls",
     "model_module_version": "1.5.0",
     "model_name": "ProgressStyleModel",
     "state": {
      "_model_module": "@jupyter-widgets/controls",
      "_model_module_version": "1.5.0",
      "_model_name": "ProgressStyleModel",
      "_view_count": null,
      "_view_module": "@jupyter-widgets/base",
      "_view_module_version": "1.2.0",
      "_view_name": "StyleView",
      "bar_color": null,
      "description_width": ""
     }
    },
    "dc505d08e4cb4bd08613dd056716a194": {
     "model_module": "@jupyter-widgets/controls",
     "model_module_version": "1.5.0",
     "model_name": "HTMLModel",
     "state": {
      "_dom_classes": [],
      "_model_module": "@jupyter-widgets/controls",
      "_model_module_version": "1.5.0",
      "_model_name": "HTMLModel",
      "_view_count": null,
      "_view_module": "@jupyter-widgets/controls",
      "_view_module_version": "1.5.0",
      "_view_name": "HTMLView",
      "description": "",
      "description_tooltip": null,
      "layout": "IPY_MODEL_50845223c56f4628b981f813baa7f517",
      "placeholder": "​",
      "style": "IPY_MODEL_2817b15568584ddc96494a4dc2c8f902",
      "value": "Epoch 1:  87%"
     }
    },
    "de5d0a61242b490c89556990055af04d": {
     "model_module": "@jupyter-widgets/controls",
     "model_module_version": "1.5.0",
     "model_name": "ProgressStyleModel",
     "state": {
      "_model_module": "@jupyter-widgets/controls",
      "_model_module_version": "1.5.0",
      "_model_name": "ProgressStyleModel",
      "_view_count": null,
      "_view_module": "@jupyter-widgets/base",
      "_view_module_version": "1.2.0",
      "_view_name": "StyleView",
      "bar_color": null,
      "description_width": ""
     }
    },
    "e04e02043fb04aef927c962393f5ffc6": {
     "model_module": "@jupyter-widgets/base",
     "model_module_version": "1.2.0",
     "model_name": "LayoutModel",
     "state": {
      "_model_module": "@jupyter-widgets/base",
      "_model_module_version": "1.2.0",
      "_model_name": "LayoutModel",
      "_view_count": null,
      "_view_module": "@jupyter-widgets/base",
      "_view_module_version": "1.2.0",
      "_view_name": "LayoutView",
      "align_content": null,
      "align_items": null,
      "align_self": null,
      "border": null,
      "bottom": null,
      "display": "inline-flex",
      "flex": null,
      "flex_flow": "row wrap",
      "grid_area": null,
      "grid_auto_columns": null,
      "grid_auto_flow": null,
      "grid_auto_rows": null,
      "grid_column": null,
      "grid_gap": null,
      "grid_row": null,
      "grid_template_areas": null,
      "grid_template_columns": null,
      "grid_template_rows": null,
      "height": null,
      "justify_content": null,
      "justify_items": null,
      "left": null,
      "margin": null,
      "max_height": null,
      "max_width": null,
      "min_height": null,
      "min_width": null,
      "object_fit": null,
      "object_position": null,
      "order": null,
      "overflow": null,
      "overflow_x": null,
      "overflow_y": null,
      "padding": null,
      "right": null,
      "top": null,
      "visibility": null,
      "width": "100%"
     }
    },
    "e9080c14abdd4a488fcd2531fede2057": {
     "model_module": "@jupyter-widgets/controls",
     "model_module_version": "1.5.0",
     "model_name": "FloatProgressModel",
     "state": {
      "_dom_classes": [],
      "_model_module": "@jupyter-widgets/controls",
      "_model_module_version": "1.5.0",
      "_model_name": "FloatProgressModel",
      "_view_count": null,
      "_view_module": "@jupyter-widgets/controls",
      "_view_module_version": "1.5.0",
      "_view_name": "ProgressView",
      "bar_style": "",
      "description": "",
      "description_tooltip": null,
      "layout": "IPY_MODEL_8124506bf5434bd2bdb8e4db675fc014",
      "max": 211,
      "min": 0,
      "orientation": "horizontal",
      "style": "IPY_MODEL_d354fb2ade1f40e288abf394fcf8e8f8",
      "value": 60
     }
    },
    "f39f1a17770e4f65be93d17478f0b317": {
     "model_module": "@jupyter-widgets/base",
     "model_module_version": "1.2.0",
     "model_name": "LayoutModel",
     "state": {
      "_model_module": "@jupyter-widgets/base",
      "_model_module_version": "1.2.0",
      "_model_name": "LayoutModel",
      "_view_count": null,
      "_view_module": "@jupyter-widgets/base",
      "_view_module_version": "1.2.0",
      "_view_name": "LayoutView",
      "align_content": null,
      "align_items": null,
      "align_self": null,
      "border": null,
      "bottom": null,
      "display": null,
      "flex": null,
      "flex_flow": null,
      "grid_area": null,
      "grid_auto_columns": null,
      "grid_auto_flow": null,
      "grid_auto_rows": null,
      "grid_column": null,
      "grid_gap": null,
      "grid_row": null,
      "grid_template_areas": null,
      "grid_template_columns": null,
      "grid_template_rows": null,
      "height": null,
      "justify_content": null,
      "justify_items": null,
      "left": null,
      "margin": null,
      "max_height": null,
      "max_width": null,
      "min_height": null,
      "min_width": null,
      "object_fit": null,
      "object_position": null,
      "order": null,
      "overflow": null,
      "overflow_x": null,
      "overflow_y": null,
      "padding": null,
      "right": null,
      "top": null,
      "visibility": null,
      "width": null
     }
    },
    "f638bb06f5a94c7480602abfcab9240f": {
     "model_module": "@jupyter-widgets/base",
     "model_module_version": "1.2.0",
     "model_name": "LayoutModel",
     "state": {
      "_model_module": "@jupyter-widgets/base",
      "_model_module_version": "1.2.0",
      "_model_name": "LayoutModel",
      "_view_count": null,
      "_view_module": "@jupyter-widgets/base",
      "_view_module_version": "1.2.0",
      "_view_name": "LayoutView",
      "align_content": null,
      "align_items": null,
      "align_self": null,
      "border": null,
      "bottom": null,
      "display": null,
      "flex": null,
      "flex_flow": null,
      "grid_area": null,
      "grid_auto_columns": null,
      "grid_auto_flow": null,
      "grid_auto_rows": null,
      "grid_column": null,
      "grid_gap": null,
      "grid_row": null,
      "grid_template_areas": null,
      "grid_template_columns": null,
      "grid_template_rows": null,
      "height": null,
      "justify_content": null,
      "justify_items": null,
      "left": null,
      "margin": null,
      "max_height": null,
      "max_width": null,
      "min_height": null,
      "min_width": null,
      "object_fit": null,
      "object_position": null,
      "order": null,
      "overflow": null,
      "overflow_x": null,
      "overflow_y": null,
      "padding": null,
      "right": null,
      "top": null,
      "visibility": null,
      "width": null
     }
    },
    "fa3e3929200242bba7077dbfad72190a": {
     "model_module": "@jupyter-widgets/base",
     "model_module_version": "1.2.0",
     "model_name": "LayoutModel",
     "state": {
      "_model_module": "@jupyter-widgets/base",
      "_model_module_version": "1.2.0",
      "_model_name": "LayoutModel",
      "_view_count": null,
      "_view_module": "@jupyter-widgets/base",
      "_view_module_version": "1.2.0",
      "_view_name": "LayoutView",
      "align_content": null,
      "align_items": null,
      "align_self": null,
      "border": null,
      "bottom": null,
      "display": null,
      "flex": null,
      "flex_flow": null,
      "grid_area": null,
      "grid_auto_columns": null,
      "grid_auto_flow": null,
      "grid_auto_rows": null,
      "grid_column": null,
      "grid_gap": null,
      "grid_row": null,
      "grid_template_areas": null,
      "grid_template_columns": null,
      "grid_template_rows": null,
      "height": null,
      "justify_content": null,
      "justify_items": null,
      "left": null,
      "margin": null,
      "max_height": null,
      "max_width": null,
      "min_height": null,
      "min_width": null,
      "object_fit": null,
      "object_position": null,
      "order": null,
      "overflow": null,
      "overflow_x": null,
      "overflow_y": null,
      "padding": null,
      "right": null,
      "top": null,
      "visibility": null,
      "width": null
     }
    }
   }
  }
 },
 "nbformat": 4,
 "nbformat_minor": 4
}
