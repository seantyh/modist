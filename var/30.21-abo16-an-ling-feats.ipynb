{
 "cells": [
  {
   "cell_type": "markdown",
   "metadata": {},
   "source": [
    "# Comparing Wav2Vec vectors with Linguistic Features"
   ]
  },
  {
   "cell_type": "code",
   "execution_count": 1,
   "metadata": {},
   "outputs": [],
   "source": [
    "import glob\n",
    "import pandas as pd\n",
    "import numpy as np\n",
    "import pickle\n",
    "import matplotlib.pyplot as plt\n",
    "from tqdm.auto import tqdm\n",
    "from sklearn.decomposition import PCA\n",
    "from scipy.spatial.distance import pdist, squareform\n",
    "from scipy.cluster.hierarchy import dendrogram, linkage\n",
    "from scipy.stats import stats\n",
    "import torch"
   ]
  },
  {
   "cell_type": "markdown",
   "metadata": {},
   "source": [
    "## Loading data"
   ]
  },
  {
   "cell_type": "code",
   "execution_count": 2,
   "metadata": {},
   "outputs": [],
   "source": [
    "## loading language label mappings\n",
    "with open(\"../data/abo16.tsv\", \"r\") as fin:\n",
    "    abo16_map = {}\n",
    "    for ln in fin.readlines()[1:]:\n",
    "        toks = ln.strip().split(\"\\t\")\n",
    "        if len(toks) < 2: continue\n",
    "        abo16_map[toks[1]] = toks[0]\n",
    "        if len(toks) >= 3:\n",
    "            abo16_map[toks[2]] = toks[0]"
   ]
  },
  {
   "cell_type": "code",
   "execution_count": 3,
   "metadata": {},
   "outputs": [],
   "source": [
    "## loading language features\n",
    "feat_types = pd.read_csv(\"../data/langfeats/formosan_lgs_types.csv\", index_col=0)\n",
    "feats = pd.read_csv(\"../data/langfeats/formosan_lgs.csv\", index_col=0).transpose()\n",
    "feats = feats.rename(columns=lambda x: abo16_map.get(x, f\"({x})\"))     \n",
    "keep_cols = sorted([x for x in feats.columns.values if not x.startswith(\"(\")])\n",
    "feats = feats.loc[:, keep_cols]"
   ]
  },
  {
   "cell_type": "code",
   "execution_count": 4,
   "metadata": {},
   "outputs": [
    {
     "data": {
      "text/html": [
       "<div>\n",
       "<style scoped>\n",
       "    .dataframe tbody tr th:only-of-type {\n",
       "        vertical-align: middle;\n",
       "    }\n",
       "\n",
       "    .dataframe tbody tr th {\n",
       "        vertical-align: top;\n",
       "    }\n",
       "\n",
       "    .dataframe thead th {\n",
       "        text-align: right;\n",
       "    }\n",
       "</style>\n",
       "<table border=\"1\" class=\"dataframe\">\n",
       "  <thead>\n",
       "    <tr style=\"text-align: right;\">\n",
       "      <th>Language</th>\n",
       "      <th>Amis</th>\n",
       "      <th>Atayal</th>\n",
       "      <th>Bunun</th>\n",
       "      <th>Cou</th>\n",
       "      <th>Kavalan</th>\n",
       "      <th>Paiwan</th>\n",
       "      <th>Pinuyumayan</th>\n",
       "      <th>Rukai</th>\n",
       "      <th>Saysiyat</th>\n",
       "      <th>Seediq</th>\n",
       "      <th>Thau</th>\n",
       "      <th>Yami</th>\n",
       "    </tr>\n",
       "  </thead>\n",
       "  <tbody>\n",
       "    <tr>\n",
       "      <th>highfrontvowel</th>\n",
       "      <td>1.0</td>\n",
       "      <td>1.0</td>\n",
       "      <td>1.0</td>\n",
       "      <td>1.0</td>\n",
       "      <td>1.0</td>\n",
       "      <td>1.0</td>\n",
       "      <td>1.0</td>\n",
       "      <td>1.0</td>\n",
       "      <td>1.0</td>\n",
       "      <td>1.0</td>\n",
       "      <td>1.0</td>\n",
       "      <td>1.0</td>\n",
       "    </tr>\n",
       "    <tr>\n",
       "      <th>highcentralvowel</th>\n",
       "      <td>0.0</td>\n",
       "      <td>0.0</td>\n",
       "      <td>0.0</td>\n",
       "      <td>1.0</td>\n",
       "      <td>0.0</td>\n",
       "      <td>0.0</td>\n",
       "      <td>0.0</td>\n",
       "      <td>0.0</td>\n",
       "      <td>0.0</td>\n",
       "      <td>0.0</td>\n",
       "      <td>0.0</td>\n",
       "      <td>0.0</td>\n",
       "    </tr>\n",
       "    <tr>\n",
       "      <th>highbackvowel</th>\n",
       "      <td>1.0</td>\n",
       "      <td>1.0</td>\n",
       "      <td>1.0</td>\n",
       "      <td>1.0</td>\n",
       "      <td>1.0</td>\n",
       "      <td>1.0</td>\n",
       "      <td>1.0</td>\n",
       "      <td>1.0</td>\n",
       "      <td>0.0</td>\n",
       "      <td>1.0</td>\n",
       "      <td>1.0</td>\n",
       "      <td>1.0</td>\n",
       "    </tr>\n",
       "    <tr>\n",
       "      <th>Midfrontvowel</th>\n",
       "      <td>0.0</td>\n",
       "      <td>1.0</td>\n",
       "      <td>0.0</td>\n",
       "      <td>1.0</td>\n",
       "      <td>0.0</td>\n",
       "      <td>0.0</td>\n",
       "      <td>0.0</td>\n",
       "      <td>0.0</td>\n",
       "      <td>1.0</td>\n",
       "      <td>1.0</td>\n",
       "      <td>0.0</td>\n",
       "      <td>0.0</td>\n",
       "    </tr>\n",
       "    <tr>\n",
       "      <th>Midcentralvowel</th>\n",
       "      <td>1.0</td>\n",
       "      <td>0.0</td>\n",
       "      <td>0.0</td>\n",
       "      <td>0.0</td>\n",
       "      <td>1.0</td>\n",
       "      <td>1.0</td>\n",
       "      <td>1.0</td>\n",
       "      <td>1.0</td>\n",
       "      <td>1.0</td>\n",
       "      <td>0.0</td>\n",
       "      <td>0.0</td>\n",
       "      <td>1.0</td>\n",
       "    </tr>\n",
       "  </tbody>\n",
       "</table>\n",
       "</div>"
      ],
      "text/plain": [
       "Language          Amis  Atayal  Bunun  Cou  Kavalan  Paiwan  Pinuyumayan  \\\n",
       "highfrontvowel     1.0     1.0    1.0  1.0      1.0     1.0          1.0   \n",
       "highcentralvowel   0.0     0.0    0.0  1.0      0.0     0.0          0.0   \n",
       "highbackvowel      1.0     1.0    1.0  1.0      1.0     1.0          1.0   \n",
       "Midfrontvowel      0.0     1.0    0.0  1.0      0.0     0.0          0.0   \n",
       "Midcentralvowel    1.0     0.0    0.0  0.0      1.0     1.0          1.0   \n",
       "\n",
       "Language          Rukai  Saysiyat  Seediq  Thau  Yami  \n",
       "highfrontvowel      1.0       1.0     1.0   1.0   1.0  \n",
       "highcentralvowel    0.0       0.0     0.0   0.0   0.0  \n",
       "highbackvowel       1.0       0.0     1.0   1.0   1.0  \n",
       "Midfrontvowel       0.0       1.0     1.0   0.0   0.0  \n",
       "Midcentralvowel     1.0       1.0     0.0   0.0   1.0  "
      ]
     },
     "execution_count": 4,
     "metadata": {},
     "output_type": "execute_result"
    }
   ],
   "source": [
    "feats.head()"
   ]
  },
  {
   "cell_type": "code",
   "execution_count": 5,
   "metadata": {},
   "outputs": [
    {
     "data": {
      "text/html": [
       "<div>\n",
       "<style scoped>\n",
       "    .dataframe tbody tr th:only-of-type {\n",
       "        vertical-align: middle;\n",
       "    }\n",
       "\n",
       "    .dataframe tbody tr th {\n",
       "        vertical-align: top;\n",
       "    }\n",
       "\n",
       "    .dataframe thead th {\n",
       "        text-align: right;\n",
       "    }\n",
       "</style>\n",
       "<table border=\"1\" class=\"dataframe\">\n",
       "  <thead>\n",
       "    <tr style=\"text-align: right;\">\n",
       "      <th></th>\n",
       "      <th>LingType</th>\n",
       "      <th>IsVowel</th>\n",
       "      <th>Sonority</th>\n",
       "    </tr>\n",
       "    <tr>\n",
       "      <th>Features</th>\n",
       "      <th></th>\n",
       "      <th></th>\n",
       "      <th></th>\n",
       "    </tr>\n",
       "  </thead>\n",
       "  <tbody>\n",
       "    <tr>\n",
       "      <th>highfrontvowel</th>\n",
       "      <td>Phonology</td>\n",
       "      <td>Vowel</td>\n",
       "      <td>Sonorant</td>\n",
       "    </tr>\n",
       "    <tr>\n",
       "      <th>highcentralvowel</th>\n",
       "      <td>Phonology</td>\n",
       "      <td>Vowel</td>\n",
       "      <td>Sonorant</td>\n",
       "    </tr>\n",
       "    <tr>\n",
       "      <th>highbackvowel</th>\n",
       "      <td>Phonology</td>\n",
       "      <td>Vowel</td>\n",
       "      <td>Sonorant</td>\n",
       "    </tr>\n",
       "    <tr>\n",
       "      <th>Midfrontvowel</th>\n",
       "      <td>Phonology</td>\n",
       "      <td>Vowel</td>\n",
       "      <td>Sonorant</td>\n",
       "    </tr>\n",
       "    <tr>\n",
       "      <th>Midcentralvowel</th>\n",
       "      <td>Phonology</td>\n",
       "      <td>Vowel</td>\n",
       "      <td>Sonorant</td>\n",
       "    </tr>\n",
       "  </tbody>\n",
       "</table>\n",
       "</div>"
      ],
      "text/plain": [
       "                   LingType IsVowel  Sonority\n",
       "Features                                     \n",
       "highfrontvowel    Phonology   Vowel  Sonorant\n",
       "highcentralvowel  Phonology   Vowel  Sonorant\n",
       "highbackvowel     Phonology   Vowel  Sonorant\n",
       "Midfrontvowel     Phonology   Vowel  Sonorant\n",
       "Midcentralvowel   Phonology   Vowel  Sonorant"
      ]
     },
     "execution_count": 5,
     "metadata": {},
     "output_type": "execute_result"
    }
   ],
   "source": [
    "feat_types.head()"
   ]
  },
  {
   "cell_type": "code",
   "execution_count": 6,
   "metadata": {},
   "outputs": [
    {
     "name": "stdout",
     "output_type": "stream",
     "text": [
      "Loading vectors from:  ../data/vecs/abo16-an-02.vec.pkl\n"
     ]
    }
   ],
   "source": [
    "## loading vectors\n",
    "vec_path = glob.glob(\"../data/vecs/abo16-an*.pkl\")[0]\n",
    "with open(vec_path, \"rb\") as fin:\n",
    "    evals = pickle.load(fin)\n",
    "print(\"Loading vectors from: \", vec_path)"
   ]
  },
  {
   "cell_type": "code",
   "execution_count": 7,
   "metadata": {},
   "outputs": [],
   "source": [
    "## building h_proj\n",
    "ans = evals[\"ans\"]\n",
    "preds = evals[\"preds\"]\n",
    "mask = np.array([((x == y) and (x != \"misc\")) for x, y in zip(ans, preds)])\n",
    "ans_lst = sorted(set(ans))\n",
    "ans_lst.remove('misc')\n",
    "hlast = evals[\"last\"][mask, :]\n",
    "ans = np.array(ans)[mask]\n",
    "preds = np.array(preds)[mask]\n",
    "\n",
    "## projecting to low dimension\n",
    "pca_h = PCA(5)\n",
    "h_proj = pca_h.fit_transform(hlast)\n",
    "h_proj = h_proj / np.linalg.norm(h_proj, axis=1)[:, np.newaxis]"
   ]
  },
  {
   "cell_type": "code",
   "execution_count": 8,
   "metadata": {},
   "outputs": [
    {
     "data": {
      "text/plain": [
       "((1871, 1024), (1871, 5))"
      ]
     },
     "execution_count": 8,
     "metadata": {},
     "output_type": "execute_result"
    }
   ],
   "source": [
    "hlast.shape, h_proj.shape"
   ]
  },
  {
   "cell_type": "markdown",
   "metadata": {},
   "source": [
    "## Helper functions"
   ]
  },
  {
   "cell_type": "code",
   "execution_count": 9,
   "metadata": {},
   "outputs": [],
   "source": [
    "def compute_lang_medoids(hvec, sample_ratio=1., rng=None):\n",
    "    medoids = []\n",
    "    if not rng:\n",
    "        rng = np.random.RandomState()\n",
    "        \n",
    "    for ans_x in ans_lst:\n",
    "        mat = hvec[np.array(ans)==ans_x]\n",
    "        mat_nr = mat.shape[0]\n",
    "        sample_idxs = np.arange(mat_nr)\n",
    "        rng.shuffle(sample_idxs)     \n",
    "        sample_idxs = sample_idxs[:int(mat_nr*sample_ratio)]\n",
    "        # import pdb; pdb.set_trace()\n",
    "        sampled_mat = mat[sample_idxs]        \n",
    "        \n",
    "        D = squareform(pdist(sampled_mat, metric='cosine'))\n",
    "        med_idx = np.argmin(D.sum(axis=0))\n",
    "        medoids.append(mat[med_idx]) \n",
    "    return np.vstack(medoids)"
   ]
  },
  {
   "cell_type": "code",
   "execution_count": 10,
   "metadata": {},
   "outputs": [],
   "source": [
    "def lower_tri(mat):\n",
    "    return mat[np.tril_indices(mat.shape[0])]\n",
    "\n",
    "def compute_corr_sim(feat_corr, med_corr):\n",
    "    ## align features\n",
    "    med_labels = med_corr.index.values.tolist()\n",
    "    feat_labels = feat_corr.index.values.tolist()\n",
    "    lang_both = set(med_labels).intersection(feat_labels)\n",
    "    lang_both = list(sorted(lang_both))\n",
    "    feat_corrmat = feat_corr.loc[lang_both].loc[:, lang_both]\n",
    "    med_corrmat = med_corr.loc[lang_both].loc[:, lang_both]\n",
    "    feat_corr_vec = lower_tri(feat_corrmat.to_numpy())\n",
    "    med_corr_vec = lower_tri(med_corrmat.to_numpy())\n",
    "    return stats.spearmanr(feat_corr_vec, med_corr_vec)"
   ]
  },
  {
   "cell_type": "code",
   "execution_count": 11,
   "metadata": {},
   "outputs": [],
   "source": [
    "def fivenum(x):\n",
    "    return {\"mean\": np.mean(x), \n",
    "            \"std\": np.std(x),\n",
    "            \"median\": np.median(x), \n",
    "            \"Q95\": np.quantile(x, .95),\n",
    "            \"Q05\": np.quantile(x, .05),\n",
    "           }"
   ]
  },
  {
   "cell_type": "markdown",
   "metadata": {
    "tags": []
   },
   "source": [
    "## Feature Partitions"
   ]
  },
  {
   "cell_type": "code",
   "execution_count": 12,
   "metadata": {},
   "outputs": [],
   "source": [
    "# build randomized ling features\n",
    "rand_feat_values = feats.values.copy()\n",
    "feat_rng = np.random.RandomState(333)\n",
    "for r_idx in range(rand_feat_values.shape[0]):\n",
    "    rand_row = rand_feat_values[r_idx]\n",
    "    feat_rng.shuffle(rand_row)\n",
    "    rand_feat_values[r_idx, :] = rand_row\n",
    "rand_feats = pd.DataFrame(rand_feat_values, index=feats.index, columns=feats.columns)"
   ]
  },
  {
   "cell_type": "code",
   "execution_count": 13,
   "metadata": {},
   "outputs": [],
   "source": [
    "FEAT_CATEGORIES = (\"full\",\n",
    "    \"phono\", \"morpho\", \"syntax\", \n",
    "    \"vowel\", \"consonant\", \n",
    "    \"sonorant\", \"obstruent\")\n",
    "\n",
    "n_hot = feats.sum(axis=1)\n",
    "feat_mask = ~((n_hot == 0.) | (n_hot==13.))\n",
    "\n",
    "def get_feat_mask(feat_cat, feat_val):\n",
    "    return (feat_mask & \n",
    "        feat_types.apply(lambda x: x[feat_cat]==feat_val, axis=1))\n",
    "\n",
    "full_feat_mask = feat_mask\n",
    "phono_feat_mask = get_feat_mask(\"LingType\", \"Phonology\")\n",
    "morpho_feat_mask = get_feat_mask(\"LingType\", \"Morphology\")\n",
    "syntax_feat_mask = get_feat_mask(\"LingType\", \"Syntax\")\n",
    "vowel_feat_mask = get_feat_mask(\"IsVowel\", \"Vowel\")\n",
    "consonant_feat_mask = get_feat_mask(\"IsVowel\", \"Consonant\")\n",
    "sonorant_feat_mask = get_feat_mask(\"Sonority\", \"Sonorant\")\n",
    "obstruent_feat_mask = get_feat_mask(\"Sonority\", \"Obstruent\")"
   ]
  },
  {
   "cell_type": "code",
   "execution_count": 14,
   "metadata": {},
   "outputs": [
    {
     "name": "stdout",
     "output_type": "stream",
     "text": [
      "full 120\n",
      "phono 56\n",
      "morpho 43\n",
      "syntax 21\n",
      "vowel 10\n",
      "consonant 46\n",
      "sonorant 22\n",
      "obstruent 31\n"
     ]
    }
   ],
   "source": [
    "for feat_cat in FEAT_CATEGORIES:    \n",
    "    print(feat_cat, globals()[f\"{feat_cat}_feat_mask\"].sum())"
   ]
  },
  {
   "cell_type": "markdown",
   "metadata": {},
   "source": [
    "## Compute CorrSim under Feature Partitions"
   ]
  },
  {
   "cell_type": "code",
   "execution_count": 15,
   "metadata": {},
   "outputs": [],
   "source": [
    "def compute_corrsim_samples(feat_corr, sample_ratio=.5, n_samples=100):\n",
    "    spearman_rs = []\n",
    "    rng = np.random.RandomState(123)\n",
    "    for idx in tqdm(range(n_samples)):        \n",
    "        medoids = compute_lang_medoids(h_proj, 0.5, rng)\n",
    "        Dm = squareform(pdist(medoids, metric='cosine'))\n",
    "        # convert cosine distance to cosine similarity\n",
    "        hmed_corr = pd.DataFrame(1-Dm, index=ans_lst, columns=ans_lst)\n",
    "        sr = compute_corr_sim(feat_corr, hmed_corr)\n",
    "        spearman_rs.append(sr.correlation)\n",
    "    return spearman_rs"
   ]
  },
  {
   "cell_type": "code",
   "execution_count": 16,
   "metadata": {},
   "outputs": [
    {
     "data": {
      "application/vnd.jupyter.widget-view+json": {
       "model_id": "bb022f205263409199565d607dfe43d9",
       "version_major": 2,
       "version_minor": 0
      },
      "text/plain": [
       "  0%|          | 0/100 [00:00<?, ?it/s]"
      ]
     },
     "metadata": {},
     "output_type": "display_data"
    },
    {
     "data": {
      "application/vnd.jupyter.widget-view+json": {
       "model_id": "99becc6acb7c485b9d93177185a504fd",
       "version_major": 2,
       "version_minor": 0
      },
      "text/plain": [
       "  0%|          | 0/100 [00:00<?, ?it/s]"
      ]
     },
     "metadata": {},
     "output_type": "display_data"
    },
    {
     "data": {
      "application/vnd.jupyter.widget-view+json": {
       "model_id": "9c1509dfb3584376933f1c4fdfed4fd4",
       "version_major": 2,
       "version_minor": 0
      },
      "text/plain": [
       "  0%|          | 0/100 [00:00<?, ?it/s]"
      ]
     },
     "metadata": {},
     "output_type": "display_data"
    },
    {
     "data": {
      "application/vnd.jupyter.widget-view+json": {
       "model_id": "74bcb5594a9d4debaf19d0fd37249151",
       "version_major": 2,
       "version_minor": 0
      },
      "text/plain": [
       "  0%|          | 0/100 [00:00<?, ?it/s]"
      ]
     },
     "metadata": {},
     "output_type": "display_data"
    },
    {
     "data": {
      "application/vnd.jupyter.widget-view+json": {
       "model_id": "eba00b88c9b24cc6a827cf0333b65b7f",
       "version_major": 2,
       "version_minor": 0
      },
      "text/plain": [
       "  0%|          | 0/100 [00:00<?, ?it/s]"
      ]
     },
     "metadata": {},
     "output_type": "display_data"
    },
    {
     "data": {
      "application/vnd.jupyter.widget-view+json": {
       "model_id": "636e552273294eb5865f8f796f3c4a44",
       "version_major": 2,
       "version_minor": 0
      },
      "text/plain": [
       "  0%|          | 0/100 [00:00<?, ?it/s]"
      ]
     },
     "metadata": {},
     "output_type": "display_data"
    },
    {
     "data": {
      "application/vnd.jupyter.widget-view+json": {
       "model_id": "1358692783d34b99a7c1ffa312002209",
       "version_major": 2,
       "version_minor": 0
      },
      "text/plain": [
       "  0%|          | 0/100 [00:00<?, ?it/s]"
      ]
     },
     "metadata": {},
     "output_type": "display_data"
    },
    {
     "data": {
      "application/vnd.jupyter.widget-view+json": {
       "model_id": "663d3a8e79e845fab20a9b9aec9faece",
       "version_major": 2,
       "version_minor": 0
      },
      "text/plain": [
       "  0%|          | 0/100 [00:00<?, ?it/s]"
      ]
     },
     "metadata": {},
     "output_type": "display_data"
    }
   ],
   "source": [
    "feat_stats = {}\n",
    "for feat_cat in FEAT_CATEGORIES:    \n",
    "    feat_mask = globals()[f\"{feat_cat}_feat_mask\"]\n",
    "    feat_corr = feats[feat_mask].corr()\n",
    "    feat_rs = compute_corrsim_samples(feat_corr)\n",
    "    feat_stats[feat_cat] = fivenum(feat_rs)"
   ]
  },
  {
   "cell_type": "code",
   "execution_count": 17,
   "metadata": {},
   "outputs": [],
   "source": [
    "from tabulate import tabulate"
   ]
  },
  {
   "cell_type": "code",
   "execution_count": 21,
   "metadata": {},
   "outputs": [
    {
     "data": {
      "text/html": [
       "<div>\n",
       "<style scoped>\n",
       "    .dataframe tbody tr th:only-of-type {\n",
       "        vertical-align: middle;\n",
       "    }\n",
       "\n",
       "    .dataframe tbody tr th {\n",
       "        vertical-align: top;\n",
       "    }\n",
       "\n",
       "    .dataframe thead th {\n",
       "        text-align: right;\n",
       "    }\n",
       "</style>\n",
       "<table border=\"1\" class=\"dataframe\">\n",
       "  <thead>\n",
       "    <tr style=\"text-align: right;\">\n",
       "      <th></th>\n",
       "      <th>mean</th>\n",
       "      <th>std</th>\n",
       "      <th>median</th>\n",
       "      <th>Q95</th>\n",
       "      <th>Q05</th>\n",
       "    </tr>\n",
       "  </thead>\n",
       "  <tbody>\n",
       "    <tr>\n",
       "      <th>full</th>\n",
       "      <td>0.545272</td>\n",
       "      <td>0.022863</td>\n",
       "      <td>0.545480</td>\n",
       "      <td>0.579367</td>\n",
       "      <td>0.510290</td>\n",
       "    </tr>\n",
       "    <tr>\n",
       "      <th>phono</th>\n",
       "      <td>0.572864</td>\n",
       "      <td>0.024292</td>\n",
       "      <td>0.574855</td>\n",
       "      <td>0.607586</td>\n",
       "      <td>0.526364</td>\n",
       "    </tr>\n",
       "    <tr>\n",
       "      <th>morpho</th>\n",
       "      <td>0.430814</td>\n",
       "      <td>0.023488</td>\n",
       "      <td>0.431962</td>\n",
       "      <td>0.467582</td>\n",
       "      <td>0.391830</td>\n",
       "    </tr>\n",
       "    <tr>\n",
       "      <th>syntax</th>\n",
       "      <td>0.347671</td>\n",
       "      <td>0.031784</td>\n",
       "      <td>0.346305</td>\n",
       "      <td>0.407836</td>\n",
       "      <td>0.295362</td>\n",
       "    </tr>\n",
       "    <tr>\n",
       "      <th>vowel</th>\n",
       "      <td>0.499212</td>\n",
       "      <td>0.035223</td>\n",
       "      <td>0.496155</td>\n",
       "      <td>0.558150</td>\n",
       "      <td>0.441031</td>\n",
       "    </tr>\n",
       "    <tr>\n",
       "      <th>consonant</th>\n",
       "      <td>0.559916</td>\n",
       "      <td>0.024754</td>\n",
       "      <td>0.567040</td>\n",
       "      <td>0.592787</td>\n",
       "      <td>0.514609</td>\n",
       "    </tr>\n",
       "    <tr>\n",
       "      <th>sonorant</th>\n",
       "      <td>0.512463</td>\n",
       "      <td>0.027437</td>\n",
       "      <td>0.514575</td>\n",
       "      <td>0.555389</td>\n",
       "      <td>0.464539</td>\n",
       "    </tr>\n",
       "    <tr>\n",
       "      <th>obstruent</th>\n",
       "      <td>0.567740</td>\n",
       "      <td>0.029086</td>\n",
       "      <td>0.572806</td>\n",
       "      <td>0.606004</td>\n",
       "      <td>0.516479</td>\n",
       "    </tr>\n",
       "  </tbody>\n",
       "</table>\n",
       "</div>"
      ],
      "text/plain": [
       "               mean       std    median       Q95       Q05\n",
       "full       0.545272  0.022863  0.545480  0.579367  0.510290\n",
       "phono      0.572864  0.024292  0.574855  0.607586  0.526364\n",
       "morpho     0.430814  0.023488  0.431962  0.467582  0.391830\n",
       "syntax     0.347671  0.031784  0.346305  0.407836  0.295362\n",
       "vowel      0.499212  0.035223  0.496155  0.558150  0.441031\n",
       "consonant  0.559916  0.024754  0.567040  0.592787  0.514609\n",
       "sonorant   0.512463  0.027437  0.514575  0.555389  0.464539\n",
       "obstruent  0.567740  0.029086  0.572806  0.606004  0.516479"
      ]
     },
     "execution_count": 21,
     "metadata": {},
     "output_type": "execute_result"
    }
   ],
   "source": [
    "feat_stats_dfr = pd.DataFrame.from_dict(feat_stats).transpose()\n",
    "feat_stats_dfr.to_csv(\"../data/ling_feat_stats.csv\")\n",
    "feat_stats_dfr"
   ]
  },
  {
   "cell_type": "markdown",
   "metadata": {},
   "source": [
    "## Randomized control"
   ]
  },
  {
   "cell_type": "code",
   "execution_count": 19,
   "metadata": {},
   "outputs": [
    {
     "data": {
      "application/vnd.jupyter.widget-view+json": {
       "model_id": "2fe39392efe74cb691639676f4cea8ff",
       "version_major": 2,
       "version_minor": 0
      },
      "text/plain": [
       "  0%|          | 0/100 [00:00<?, ?it/s]"
      ]
     },
     "metadata": {},
     "output_type": "display_data"
    },
    {
     "data": {
      "application/vnd.jupyter.widget-view+json": {
       "model_id": "ed61f2afd5c046798abeb74a8a9f93c7",
       "version_major": 2,
       "version_minor": 0
      },
      "text/plain": [
       "  0%|          | 0/100 [00:00<?, ?it/s]"
      ]
     },
     "metadata": {},
     "output_type": "display_data"
    },
    {
     "data": {
      "application/vnd.jupyter.widget-view+json": {
       "model_id": "c8a981c6cedd415c8117546b2c7d177a",
       "version_major": 2,
       "version_minor": 0
      },
      "text/plain": [
       "  0%|          | 0/100 [00:00<?, ?it/s]"
      ]
     },
     "metadata": {},
     "output_type": "display_data"
    },
    {
     "data": {
      "application/vnd.jupyter.widget-view+json": {
       "model_id": "a2d6a53c2d94406abb677f290f18d09c",
       "version_major": 2,
       "version_minor": 0
      },
      "text/plain": [
       "  0%|          | 0/100 [00:00<?, ?it/s]"
      ]
     },
     "metadata": {},
     "output_type": "display_data"
    },
    {
     "data": {
      "application/vnd.jupyter.widget-view+json": {
       "model_id": "9beb709a10b54068b37d21ffb11ea98e",
       "version_major": 2,
       "version_minor": 0
      },
      "text/plain": [
       "  0%|          | 0/100 [00:00<?, ?it/s]"
      ]
     },
     "metadata": {},
     "output_type": "display_data"
    },
    {
     "data": {
      "application/vnd.jupyter.widget-view+json": {
       "model_id": "ade204cb8eff43ef99f785aa9e0186f1",
       "version_major": 2,
       "version_minor": 0
      },
      "text/plain": [
       "  0%|          | 0/100 [00:00<?, ?it/s]"
      ]
     },
     "metadata": {},
     "output_type": "display_data"
    },
    {
     "data": {
      "application/vnd.jupyter.widget-view+json": {
       "model_id": "a25643f6afee4c21b56df4ddef5bc448",
       "version_major": 2,
       "version_minor": 0
      },
      "text/plain": [
       "  0%|          | 0/100 [00:00<?, ?it/s]"
      ]
     },
     "metadata": {},
     "output_type": "display_data"
    },
    {
     "data": {
      "application/vnd.jupyter.widget-view+json": {
       "model_id": "a402beda4e844817a720660a95e3dc1c",
       "version_major": 2,
       "version_minor": 0
      },
      "text/plain": [
       "  0%|          | 0/100 [00:00<?, ?it/s]"
      ]
     },
     "metadata": {},
     "output_type": "display_data"
    }
   ],
   "source": [
    "rand_feat_stats = {}\n",
    "for feat_cat in FEAT_CATEGORIES:    \n",
    "    feat_mask = globals()[f\"{feat_cat}_feat_mask\"]\n",
    "    feat_corr = rand_feats[feat_mask].corr()\n",
    "    feat_rs = compute_corrsim_samples(feat_corr)\n",
    "    rand_feat_stats[feat_cat] = fivenum(feat_rs)"
   ]
  },
  {
   "cell_type": "code",
   "execution_count": 20,
   "metadata": {},
   "outputs": [
    {
     "data": {
      "text/html": [
       "<div>\n",
       "<style scoped>\n",
       "    .dataframe tbody tr th:only-of-type {\n",
       "        vertical-align: middle;\n",
       "    }\n",
       "\n",
       "    .dataframe tbody tr th {\n",
       "        vertical-align: top;\n",
       "    }\n",
       "\n",
       "    .dataframe thead th {\n",
       "        text-align: right;\n",
       "    }\n",
       "</style>\n",
       "<table border=\"1\" class=\"dataframe\">\n",
       "  <thead>\n",
       "    <tr style=\"text-align: right;\">\n",
       "      <th></th>\n",
       "      <th>mean</th>\n",
       "      <th>std</th>\n",
       "      <th>median</th>\n",
       "      <th>Q95</th>\n",
       "      <th>Q05</th>\n",
       "    </tr>\n",
       "  </thead>\n",
       "  <tbody>\n",
       "    <tr>\n",
       "      <th>full</th>\n",
       "      <td>0.322295</td>\n",
       "      <td>0.028448</td>\n",
       "      <td>0.322338</td>\n",
       "      <td>0.366206</td>\n",
       "      <td>0.276426</td>\n",
       "    </tr>\n",
       "    <tr>\n",
       "      <th>phono</th>\n",
       "      <td>0.352515</td>\n",
       "      <td>0.030396</td>\n",
       "      <td>0.356210</td>\n",
       "      <td>0.395579</td>\n",
       "      <td>0.294798</td>\n",
       "    </tr>\n",
       "    <tr>\n",
       "      <th>morpho</th>\n",
       "      <td>0.334848</td>\n",
       "      <td>0.024258</td>\n",
       "      <td>0.334968</td>\n",
       "      <td>0.377291</td>\n",
       "      <td>0.290689</td>\n",
       "    </tr>\n",
       "    <tr>\n",
       "      <th>syntax</th>\n",
       "      <td>0.360666</td>\n",
       "      <td>0.027919</td>\n",
       "      <td>0.359014</td>\n",
       "      <td>0.419621</td>\n",
       "      <td>0.323616</td>\n",
       "    </tr>\n",
       "    <tr>\n",
       "      <th>vowel</th>\n",
       "      <td>0.311926</td>\n",
       "      <td>0.023135</td>\n",
       "      <td>0.313356</td>\n",
       "      <td>0.349060</td>\n",
       "      <td>0.275237</td>\n",
       "    </tr>\n",
       "    <tr>\n",
       "      <th>consonant</th>\n",
       "      <td>0.380161</td>\n",
       "      <td>0.031781</td>\n",
       "      <td>0.376015</td>\n",
       "      <td>0.434446</td>\n",
       "      <td>0.319874</td>\n",
       "    </tr>\n",
       "    <tr>\n",
       "      <th>sonorant</th>\n",
       "      <td>0.394268</td>\n",
       "      <td>0.025003</td>\n",
       "      <td>0.397022</td>\n",
       "      <td>0.428948</td>\n",
       "      <td>0.357944</td>\n",
       "    </tr>\n",
       "    <tr>\n",
       "      <th>obstruent</th>\n",
       "      <td>0.326621</td>\n",
       "      <td>0.026733</td>\n",
       "      <td>0.326755</td>\n",
       "      <td>0.367530</td>\n",
       "      <td>0.280558</td>\n",
       "    </tr>\n",
       "  </tbody>\n",
       "</table>\n",
       "</div>"
      ],
      "text/plain": [
       "               mean       std    median       Q95       Q05\n",
       "full       0.322295  0.028448  0.322338  0.366206  0.276426\n",
       "phono      0.352515  0.030396  0.356210  0.395579  0.294798\n",
       "morpho     0.334848  0.024258  0.334968  0.377291  0.290689\n",
       "syntax     0.360666  0.027919  0.359014  0.419621  0.323616\n",
       "vowel      0.311926  0.023135  0.313356  0.349060  0.275237\n",
       "consonant  0.380161  0.031781  0.376015  0.434446  0.319874\n",
       "sonorant   0.394268  0.025003  0.397022  0.428948  0.357944\n",
       "obstruent  0.326621  0.026733  0.326755  0.367530  0.280558"
      ]
     },
     "execution_count": 20,
     "metadata": {},
     "output_type": "execute_result"
    }
   ],
   "source": [
    "rand_feat_stats_dfr = pd.DataFrame.from_dict(rand_feat_stats).transpose()\n",
    "rand_feat_stats_dfr.to_csv(\"../data/ling_rand_feat_stats.csv\")\n",
    "rand_feat_stats_dfr"
   ]
  },
  {
   "cell_type": "code",
   "execution_count": null,
   "metadata": {},
   "outputs": [],
   "source": []
  }
 ],
 "metadata": {
  "kernelspec": {
   "display_name": "Python 3 (ipykernel)",
   "language": "python",
   "name": "python3"
  },
  "language_info": {
   "codemirror_mode": {
    "name": "ipython",
    "version": 3
   },
   "file_extension": ".py",
   "mimetype": "text/x-python",
   "name": "python",
   "nbconvert_exporter": "python",
   "pygments_lexer": "ipython3",
   "version": "3.9.5"
  }
 },
 "nbformat": 4,
 "nbformat_minor": 4
}
