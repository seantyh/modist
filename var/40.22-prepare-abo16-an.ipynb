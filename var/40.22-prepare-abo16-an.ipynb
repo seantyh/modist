{
 "cells": [
  {
   "cell_type": "code",
   "execution_count": 1,
   "id": "6e492b76-65af-4357-b948-45fdd171ebd3",
   "metadata": {},
   "outputs": [],
   "source": [
    "import pandas as pd\n",
    "from pathlib import Path\n",
    "import pydub\n",
    "from tqdm.auto import tqdm\n",
    "import numpy as np"
   ]
  },
  {
   "cell_type": "code",
   "execution_count": 2,
   "id": "caf7e357-26c1-4bb9-8fba-fe615a773cf4",
   "metadata": {},
   "outputs": [],
   "source": [
    "abo16_list = pd.read_csv(\"../data/abo16_list.txt\")\n",
    "anmp3_dir = Path(\"../data/anmp3\")\n",
    "anmp3_dir.mkdir(parents=True, exist_ok=True)"
   ]
  },
  {
   "cell_type": "code",
   "execution_count": 3,
   "id": "c0f2d346-86c7-4654-9e42-fdce4a4bc6bc",
   "metadata": {},
   "outputs": [
    {
     "data": {
      "text/html": [
       "<div>\n",
       "<style scoped>\n",
       "    .dataframe tbody tr th:only-of-type {\n",
       "        vertical-align: middle;\n",
       "    }\n",
       "\n",
       "    .dataframe tbody tr th {\n",
       "        vertical-align: top;\n",
       "    }\n",
       "\n",
       "    .dataframe thead th {\n",
       "        text-align: right;\n",
       "    }\n",
       "</style>\n",
       "<table border=\"1\" class=\"dataframe\">\n",
       "  <thead>\n",
       "    <tr style=\"text-align: right;\">\n",
       "      <th></th>\n",
       "      <th>filename</th>\n",
       "      <th>lang</th>\n",
       "    </tr>\n",
       "  </thead>\n",
       "  <tbody>\n",
       "    <tr>\n",
       "      <th>0</th>\n",
       "      <td>c5008-2201151100.mp4</td>\n",
       "      <td>Seediq</td>\n",
       "    </tr>\n",
       "    <tr>\n",
       "      <th>1</th>\n",
       "      <td>c5008-2201150800.mp4</td>\n",
       "      <td>Thau</td>\n",
       "    </tr>\n",
       "    <tr>\n",
       "      <th>2</th>\n",
       "      <td>c5008-2201142000.mp4</td>\n",
       "      <td>Saysiyat</td>\n",
       "    </tr>\n",
       "    <tr>\n",
       "      <th>3</th>\n",
       "      <td>c5008-2201141100.mp4</td>\n",
       "      <td>Rukai</td>\n",
       "    </tr>\n",
       "    <tr>\n",
       "      <th>4</th>\n",
       "      <td>c5008-2201132000.mp4</td>\n",
       "      <td>Bunun</td>\n",
       "    </tr>\n",
       "  </tbody>\n",
       "</table>\n",
       "</div>"
      ],
      "text/plain": [
       "               filename      lang\n",
       "0  c5008-2201151100.mp4    Seediq\n",
       "1  c5008-2201150800.mp4      Thau\n",
       "2  c5008-2201142000.mp4  Saysiyat\n",
       "3  c5008-2201141100.mp4     Rukai\n",
       "4  c5008-2201132000.mp4     Bunun"
      ]
     },
     "execution_count": 3,
     "metadata": {},
     "output_type": "execute_result"
    }
   ],
   "source": [
    "abo16_list.head()"
   ]
  },
  {
   "cell_type": "code",
   "execution_count": 4,
   "id": "5eaa3bc0-dbbe-4ceb-97c7-98fb5b95a51d",
   "metadata": {},
   "outputs": [],
   "source": [
    "abo16_map = abo16_list.to_dict(orient=\"records\")\n",
    "abo16_map = {x[\"filename\"].replace(\".mp4\", \"\"): x[\"lang\"] for x in abo16_map}"
   ]
  },
  {
   "cell_type": "code",
   "execution_count": 11,
   "id": "189f9e5c-3c08-4630-8e21-202e00bc1146",
   "metadata": {},
   "outputs": [],
   "source": [
    "lang_map = {}\n",
    "pcmlen_map = {}\n",
    "for path_x in Path(\"../data/anpcm\").glob(\"*.pcm\"):\n",
    "    lang = abo16_map.get(path_x.stem, \"misc\")\n",
    "    pcm = np.memmap(path_x, np.dtype('int16'), 'r')\n",
    "    pcmlen_map[path_x.stem+\".mp3\"] = pcm.shape[0]\n",
    "    lang_map.setdefault(lang, []).append(path_x.stem+\".mp3\")"
   ]
  },
  {
   "cell_type": "code",
   "execution_count": 12,
   "id": "9ac903cd-dbee-4064-883b-86ff839d5a04",
   "metadata": {},
   "outputs": [],
   "source": [
    "abo16_an_splits = {\"train\": [], \"test\": []}\n",
    "for lang, fnames in lang_map.items():    \n",
    "    abo16_an_splits[\"test\"].append((fnames[0], lang, pcmlen_map[fnames[0]]))\n",
    "    abo16_an_splits[\"train\"].extend([(x, lang, pcmlen_map[x]) for x in fnames[1:]])"
   ]
  },
  {
   "cell_type": "code",
   "execution_count": 13,
   "id": "ef8aebf9-d275-4d12-badd-71cc9c61e4e2",
   "metadata": {},
   "outputs": [
    {
     "data": {
      "text/plain": [
       "17"
      ]
     },
     "execution_count": 13,
     "metadata": {},
     "output_type": "execute_result"
    }
   ],
   "source": [
    "len(lang_map)"
   ]
  },
  {
   "cell_type": "code",
   "execution_count": 14,
   "id": "2ea338f3-73d3-4379-b030-ef5a590fdbdb",
   "metadata": {},
   "outputs": [
    {
     "data": {
      "text/plain": [
       "[('Saysiyat', 8),\n",
       " ('Thau', 8),\n",
       " ('Yami', 9),\n",
       " ('Atayal', 7),\n",
       " ('misc', 8),\n",
       " ('Rukai', 9),\n",
       " (\"Hla'alua\", 8),\n",
       " ('Bunun', 8),\n",
       " ('Sakizaya', 9),\n",
       " ('Kavalan', 8),\n",
       " ('Seediq', 8),\n",
       " ('Kanakanavu', 8),\n",
       " ('Truku', 8),\n",
       " ('Pinuyumayan', 9),\n",
       " ('Paiwan', 6),\n",
       " ('Amis', 8),\n",
       " ('Cou', 8)]"
      ]
     },
     "execution_count": 14,
     "metadata": {},
     "output_type": "execute_result"
    }
   ],
   "source": [
    "[(k, len(v)) for k, v in lang_map.items()]"
   ]
  },
  {
   "cell_type": "code",
   "execution_count": 15,
   "id": "9fd32d6d-ca0b-48bf-b3d9-191767ed5d98",
   "metadata": {},
   "outputs": [],
   "source": [
    "import json\n",
    "with open(\"../data/abo16_an_splits.json\", \"w\") as fout:\n",
    "    json.dump(abo16_an_splits, fout)"
   ]
  },
  {
   "cell_type": "markdown",
   "id": "2a0d244f-57b9-4b2b-9b73-b4ea42180299",
   "metadata": {},
   "source": [
    "## LangMap"
   ]
  },
  {
   "cell_type": "code",
   "execution_count": 16,
   "id": "216e6d5e-ada3-4a0a-a756-04139b63683e",
   "metadata": {},
   "outputs": [
    {
     "data": {
      "text/plain": [
       "{'Saysiyat': ['c5008-2112242000.mp3',\n",
       "  'c5008-2112312000.mp3',\n",
       "  'c5008-2201142000.mp3',\n",
       "  'c5008-2201072000.mp3',\n",
       "  'c5008-2111052000.mp3',\n",
       "  'c5008-2111192000.mp3',\n",
       "  'c5008-2112102000.mp3',\n",
       "  'c5008-2110292000.mp3'],\n",
       " 'Thau': ['c5008-2201010800.mp3',\n",
       "  'c5008-2201150800.mp3',\n",
       "  'c5008-2111060800.mp3',\n",
       "  'c5008-2112110800.mp3',\n",
       "  'c5008-2112250800.mp3',\n",
       "  'c5008-2201080800.mp3',\n",
       "  'c5008-2111200800.mp3',\n",
       "  'c5008-2112040800.mp3'],\n",
       " 'Yami': ['c5008-2112282000.mp3',\n",
       "  'c5008-2201042000.mp3',\n",
       "  'c5008-2110262000.mp3',\n",
       "  'c5008-2111232000.mp3',\n",
       "  'c5008-2201112000.mp3',\n",
       "  'c5008-2111022000.mp3',\n",
       "  'c5008-2110192000.mp3',\n",
       "  'c5008-2111162000.mp3',\n",
       "  'c5008-2111092000.mp3'],\n",
       " 'Atayal': ['c5008-2111081100.mp3',\n",
       "  'c5008-2111011100.mp3',\n",
       "  'c5008-2112131100.mp3',\n",
       "  'c5008-2111291100.mp3',\n",
       "  'c5008-2201031100.mp3',\n",
       "  'c5008-2112271100.mp3',\n",
       "  'c5008-2201101100.mp3'],\n",
       " 'misc': ['misc_c5008-2201131100.mp3',\n",
       "  'misc_c5008-2112311100.mp3',\n",
       "  'misc_c5008-2112301100.mp3',\n",
       "  'misc_c5008-2201132000.mp3',\n",
       "  'misc_c5008-2112121100.mp3',\n",
       "  'misc_c5008-2201122000.mp3',\n",
       "  'misc_c5008-2201042000.mp3',\n",
       "  'misc_c5008-2112261100.mp3'],\n",
       " 'Rukai': ['c5008-2112241100.mp3',\n",
       "  'c5008-2111051100.mp3',\n",
       "  'c5008-2111121100.mp3',\n",
       "  'c5008-2111191100.mp3',\n",
       "  'c5008-2110291100.mp3',\n",
       "  'c5008-2201071100.mp3',\n",
       "  'c5008-2112311100.mp3',\n",
       "  'c5008-2110221100.mp3',\n",
       "  'c5008-2201141100.mp3'],\n",
       " \"Hla'alua\": ['c5008-2201090800.mp3',\n",
       "  'c5008-2112120800.mp3',\n",
       "  'c5008-2201020800.mp3',\n",
       "  'c5008-2112260800.mp3',\n",
       "  'c5008-2112050800.mp3',\n",
       "  'c5008-2111140800.mp3',\n",
       "  'c5008-2111280800.mp3',\n",
       "  'c5008-2111070800.mp3'],\n",
       " 'Bunun': ['c5008-2110282000.mp3',\n",
       "  'c5008-2110212000.mp3',\n",
       "  'c5008-2201062000.mp3',\n",
       "  'c5008-2111042000.mp3',\n",
       "  'c5008-2201132000.mp3',\n",
       "  'c5008-2112232000.mp3',\n",
       "  'c5008-2112302000.mp3',\n",
       "  'c5008-2111182000.mp3'],\n",
       " 'Sakizaya': ['c5008-2110272000.mp3',\n",
       "  'c5008-2201122000.mp3',\n",
       "  'c5008-2111172000.mp3',\n",
       "  'c5008-2111032000.mp3',\n",
       "  'c5008-2201052000.mp3',\n",
       "  'c5008-2112292000.mp3',\n",
       "  'c5008-2112222000.mp3',\n",
       "  'c5008-2111102000.mp3',\n",
       "  'c5008-2110202000.mp3'],\n",
       " 'Kavalan': ['c5008-2110261100.mp3',\n",
       "  'c5008-2111161100.mp3',\n",
       "  'c5008-2112141100.mp3',\n",
       "  'c5008-2201041100.mp3',\n",
       "  'c5008-2111021100.mp3',\n",
       "  'c5008-2201111100.mp3',\n",
       "  'c5008-2111091100.mp3',\n",
       "  'c5008-2112281100.mp3'],\n",
       " 'Seediq': ['c5008-2112041100.mp3',\n",
       "  'c5008-2112111100.mp3',\n",
       "  'c5008-2201081100.mp3',\n",
       "  'c5008-2201011100.mp3',\n",
       "  'c5008-2111201100.mp3',\n",
       "  'c5008-2201151100.mp3',\n",
       "  'c5008-2111271100.mp3',\n",
       "  'c5008-2112251100.mp3'],\n",
       " 'Kanakanavu': ['c5008-2201021100.mp3',\n",
       "  'c5008-2112121100.mp3',\n",
       "  'c5008-2112051100.mp3',\n",
       "  'c5008-2111141100.mp3',\n",
       "  'c5008-2201091100.mp3',\n",
       "  'c5008-2112261100.mp3',\n",
       "  'c5008-2111281100.mp3',\n",
       "  'c5008-2111071100.mp3'],\n",
       " 'Truku': ['c5008-2111041100.mp3',\n",
       "  'c5008-2112301100.mp3',\n",
       "  'c5008-2111251100.mp3',\n",
       "  'c5008-2110281100.mp3',\n",
       "  'c5008-2201061100.mp3',\n",
       "  'c5008-2201131100.mp3',\n",
       "  'c5008-2112231100.mp3',\n",
       "  'c5008-2111181100.mp3'],\n",
       " 'Pinuyumayan': ['c5008-2201022000.mp3',\n",
       "  'c5008-2111142000.mp3',\n",
       "  'c5008-2112122000.mp3',\n",
       "  'c5008-2110312000.mp3',\n",
       "  'c5008-2111072000.mp3',\n",
       "  'c5008-2110172000.mp3',\n",
       "  'c5008-2201092000.mp3',\n",
       "  'c5008-2111212000.mp3',\n",
       "  'c5008-2112262000.mp3'],\n",
       " 'Paiwan': ['c5008-2111132000.mp3',\n",
       "  'c5008-2112112000.mp3',\n",
       "  'c5008-2201012000.mp3',\n",
       "  'c5008-2110302000.mp3',\n",
       "  'c5008-2111202000.mp3',\n",
       "  'c5008-2111062000.mp3'],\n",
       " 'Amis': ['c5008-2112132000.mp3',\n",
       "  'c5008-2111292000.mp3',\n",
       "  'c5008-2201032000.mp3',\n",
       "  'c5008-2112272000.mp3',\n",
       "  'c5008-2111012000.mp3',\n",
       "  'c5008-2111082000.mp3',\n",
       "  'c5008-2201102000.mp3',\n",
       "  'c5008-2111222000.mp3'],\n",
       " 'Cou': ['c5008-2201121100.mp3',\n",
       "  'c5008-2201051100.mp3',\n",
       "  'c5008-2112291100.mp3',\n",
       "  'c5008-2111241100.mp3',\n",
       "  'c5008-2110271100.mp3',\n",
       "  'c5008-2111101100.mp3',\n",
       "  'c5008-2110131100.mp3',\n",
       "  'c5008-2111031100.mp3']}"
      ]
     },
     "execution_count": 16,
     "metadata": {},
     "output_type": "execute_result"
    }
   ],
   "source": [
    "lang_map"
   ]
  },
  {
   "cell_type": "code",
   "execution_count": 17,
   "id": "b1b63650-e588-49a2-b38c-cc2374679d50",
   "metadata": {},
   "outputs": [],
   "source": [
    "with open(\"../data/abo16_lang_map.csv\", \"w\") as fout:\n",
    "    for k, fnames in lang_map.items():\n",
    "        for fname_x in fnames:\n",
    "            fout.write(f\"{fname_x},{k}\\n\")"
   ]
  },
  {
   "cell_type": "code",
   "execution_count": null,
   "id": "a651651f-df4f-4a6a-952f-6228d47059e1",
   "metadata": {},
   "outputs": [],
   "source": []
  }
 ],
 "metadata": {
  "kernelspec": {
   "display_name": "Python 3 (ipykernel)",
   "language": "python",
   "name": "python3"
  },
  "language_info": {
   "codemirror_mode": {
    "name": "ipython",
    "version": 3
   },
   "file_extension": ".py",
   "mimetype": "text/x-python",
   "name": "python",
   "nbconvert_exporter": "python",
   "pygments_lexer": "ipython3",
   "version": "3.9.5"
  }
 },
 "nbformat": 4,
 "nbformat_minor": 5
}
