{
 "cells": [
  {
   "cell_type": "code",
   "execution_count": 2,
   "id": "8f3e57a4-ab8a-46b0-9450-b6a92275d9fd",
   "metadata": {},
   "outputs": [],
   "source": [
    "import pandas as pd"
   ]
  },
  {
   "cell_type": "code",
   "execution_count": 12,
   "id": "fffe04b5-9839-4370-85b7-8edd2f237ddd",
   "metadata": {},
   "outputs": [],
   "source": [
    "feats = pd.read_csv(\"../data/langfeats/formosan_dummies.csv\", index_col=0).transpose()"
   ]
  },
  {
   "cell_type": "code",
   "execution_count": 14,
   "id": "a626c662-dd97-484d-95b6-b385607ee3a4",
   "metadata": {},
   "outputs": [],
   "source": [
    "from sklearn.decomposition import PCA"
   ]
  },
  {
   "cell_type": "code",
   "execution_count": 22,
   "id": "d6196cf0-3674-4715-a1bf-fcd4f8b6bf9b",
   "metadata": {},
   "outputs": [],
   "source": [
    "pca = PCA(5)"
   ]
  },
  {
   "cell_type": "code",
   "execution_count": 23,
   "id": "ece82d1a-8e7d-4b06-a6ad-e194fb387ac2",
   "metadata": {},
   "outputs": [],
   "source": [
    "proj = pca.fit_transform(feats)"
   ]
  },
  {
   "cell_type": "code",
   "execution_count": 30,
   "id": "0a4466d2-1ce6-4219-bd57-fc5cc7305b72",
   "metadata": {},
   "outputs": [],
   "source": [
    "from scipy.spatial.distance import pdist, squareform"
   ]
  },
  {
   "cell_type": "code",
   "execution_count": 32,
   "id": "132035c9-0510-4a6a-b0e5-078d0540c986",
   "metadata": {},
   "outputs": [
    {
     "data": {
      "text/plain": [
       "<matplotlib.image.AxesImage at 0x7fa4eb35aa90>"
      ]
     },
     "execution_count": 32,
     "metadata": {},
     "output_type": "execute_result"
    },
    {
     "data": {
      "image/png": "[encoded data removed]",
      "text/plain": [
       "<Figure size 432x288 with 1 Axes>"
      ]
     },
     "metadata": {
      "needs_background": "light"
     },
     "output_type": "display_data"
    }
   ],
   "source": [
    "import matplotlib.pyplot as plt\n",
    "plt.imshow(squareform(pdist(proj)))"
   ]
  },
  {
   "cell_type": "code",
   "execution_count": 35,
   "id": "6b470eaf-57ae-4c0d-8b42-a323ace12e60",
   "metadata": {},
   "outputs": [
    {
     "data": {
      "text/plain": [
       "Index(['Central Amis', 'Squliq Atayal', 'Northern Paiwan', 'Isbukun Bunun',\n",
       "       'Puyuma', 'Budai Rukai', 'Tsou', 'Saisiyat', 'Yami', 'Thao', 'Kavalan',\n",
       "       'Truku', 'Sakizaya', 'Tgdaya Seediq', 'Saaroa', 'Kanakanavu'],\n",
       "      dtype='object')"
      ]
     },
     "execution_count": 35,
     "metadata": {},
     "output_type": "execute_result"
    }
   ],
   "source": [
    "feats.index"
   ]
  },
  {
   "cell_type": "code",
   "execution_count": 42,
   "id": "c22bff0c-5049-4f92-be12-4c8c04ff4666",
   "metadata": {},
   "outputs": [
    {
     "data": {
      "text/plain": [
       "array([[ 0.54375249, -0.13120424,  1.01977885, -0.77296649, -0.15860465],\n",
       "       [-0.27600877,  1.18841413, -0.32650868, -1.3342237 , -1.42510092],\n",
       "       [-1.00367794, -0.56795231, -0.10121307,  2.21510531, -0.9042719 ],\n",
       "       [ 1.84487023, -0.52557082, -0.34160752, -0.81137066,  0.56848658],\n",
       "       [-1.38471124, -1.09468714,  0.08854058,  0.06755601,  0.34840402],\n",
       "       [-1.36004006, -1.50435487,  0.26148045, -0.17601539,  0.89280265],\n",
       "       [ 2.09229416, -0.34563828, -0.0092991 ,  0.85172761, -1.0444978 ],\n",
       "       [ 0.02527614,  0.02802839,  2.1011422 ,  0.09296999, -0.57009575],\n",
       "       [-1.32412596, -0.82881694, -1.1285369 , -0.96653156,  0.03428483],\n",
       "       [-0.00461359,  0.81731238,  1.86485328, -0.73873775,  0.52059276],\n",
       "       [ 0.33426468,  2.2379391 , -0.20176146,  1.18887297,  1.81697275],\n",
       "       [-0.7418628 ,  1.80222196, -1.40102554, -0.13533093, -0.74827761],\n",
       "       [-0.54705933,  0.10115686,  0.38641834,  0.96249906, -0.28809448],\n",
       "       [-0.85536112,  0.41528158, -0.48960648, -0.50948506,  0.46746583],\n",
       "       [ 1.47137306, -0.86418289, -1.02899833,  0.25716112,  0.62892062],\n",
       "       [ 1.18563004, -0.72794692, -0.69365662, -0.19123053, -0.13898692]])"
      ]
     },
     "execution_count": 42,
     "metadata": {},
     "output_type": "execute_result"
    }
   ],
   "source": [
    "proj"
   ]
  },
  {
   "cell_type": "code",
   "execution_count": 48,
   "id": "e8bee851-5a13-4b6f-9b2a-949b758b7347",
   "metadata": {},
   "outputs": [
    {
     "data": {
      "text/plain": [
       "[('voicedbilabialplosive', -0.3348018481430593),\n",
       " ('midcentralunroundedvowel', -0.3147592467263978),\n",
       " ('voicedvelarplosive', -0.2804506090422928),\n",
       " ('voicedlabialvelarapproximant', -0.28029207100992676),\n",
       " ('voicedalveolarplosive', -0.25165461369264014),\n",
       " ('voicedpalatalapproximant', -0.24247091901300005),\n",
       " ('voicedretroflexplosive', -0.20400253317424025),\n",
       " ('voicedalveolarlateralapproximant', -0.15823679361937373),\n",
       " ('voicedalveolartrill', -0.1495348553207047),\n",
       " ('voicelessalveolarsibilantaffricate', -0.14243303090022788),\n",
       " ('voicedretroflexlateralapproximant', -0.13761442838200658),\n",
       " ('voicelessalveolopalatalsibilantaffricate', -0.11742144062309566),\n",
       " ('voicedvelarnonsibilantfricative', -0.10135504119042482),\n",
       " ('voicelesspharyngealnonsibilantfricative', -0.09391883599753732),\n",
       " ('voicedpalatalplosive', -0.08751670589001531),\n",
       " ('voicelessretroflexplosive', -0.06942568736742337),\n",
       " ('voicelessdentalnonsibilantfricative', -0.06715277650319512),\n",
       " ('voicelessretroflexsibilantfricative', -0.06638810479223371),\n",
       " ('voicedpostalveolarsibilantaffricate', -0.06638810479223371),\n",
       " ('voicedretroflexapproximant', -0.06638810479223371),\n",
       " ('voicedvelarapproximant', -0.06638810479223371),\n",
       " ('voicelessuvularplosive', -0.0512823054219827),\n",
       " ('voicedretroflexsibilantfricative', -0.050321705359562874),\n",
       " ('voicelesspostalveolarsibilantaffricate', -0.050321705359562874),\n",
       " ('voicedpalatallateralapproximant', -0.050321705359562874),\n",
       " ('voicedalveolarlateralfricative', -0.020435870872266726),\n",
       " ('voicedpostalveolarsibilantfricative', -0.013838335300409475),\n",
       " ('voicelessalveolarplosive', -2.4823109433948405e-17),\n",
       " ('voicedbilabialnasal', -7.871600955601264e-18),\n",
       " ('highbackroundedvowel', -0.0),\n",
       " ('lowcentralunroundedvowel', -0.0),\n",
       " ('highfrontunroundedvowel', -0.0),\n",
       " ('voicedvelarnasal', -0.0),\n",
       " ('voicelessvelarplosive', -0.0),\n",
       " ('voicedalveolarnasal', 1.683763907116845e-17),\n",
       " ('voicelessbilabialplosive', 5.722056250392565e-17),\n",
       " ('voicelesspostalveolarsibilantfricative', 0.0010359645113880728),\n",
       " ('lowfrontunroundedvowel', 0.001267277415793721),\n",
       " ('lowfrontroundedvowel', 0.001267277415793721),\n",
       " ('voicedbilabialnonsibilantfricative', 0.003956758869164423),\n",
       " ('voicelessbilabialnonsibilantfricative', 0.01652781675378006),\n",
       " ('voiceduvularnonsibilantfricative', 0.01675912965818572),\n",
       " ('voicedlabialpalatalapproximant', 0.01675912965818572),\n",
       " ('midbackroundedvowel', 0.021668637650596012),\n",
       " ('voicelesspharyngealplosive', 0.02726228342798909),\n",
       " ('voicedalveolarsibilantfricative', 0.04517860929337984),\n",
       " ('voiceddentalnonsibilantfricative', 0.05260632553880218),\n",
       " ('voicedalveolartaporflap', 0.053334806604698366),\n",
       " ('voicelesspalatalplosive', 0.05458028165511249),\n",
       " ('voicelessuvularnonsibilantfricative', 0.06637044810551863),\n",
       " ('voicelessalveolarsibilantfricative', 0.06638810479223371),\n",
       " ('voicelessvelarnonsibilantfricative', 0.06872576621113542),\n",
       " ('voicelessglottalnonsibilantfricative', 0.07220957981696328),\n",
       " ('voicelessglottalplosive', 0.1110742411812586),\n",
       " ('midfrontunroundedvowel', 0.11421754446274815),\n",
       " ('voicelesslabiodentalnonsibilantfricative', 0.13216427044266443),\n",
       " ('voicedalveolarimplosive', 0.19739880562868364),\n",
       " ('voicedbilabialimplosive', 0.19739880562868378),\n",
       " ('voicelessalveolarlateralfricative', 0.21005759627274245),\n",
       " ('voicedlabiodentalnonsibilantfricative', 0.2232992139906618),\n",
       " ('highcentralunroundedvowel', 0.23811695775548145)]"
      ]
     },
     "execution_count": 48,
     "metadata": {},
     "output_type": "execute_result"
    }
   ],
   "source": [
    "[(feats.columns.values[x], pca.components_[0,x]) for x in pca.components_[0,:].argsort()]"
   ]
  },
  {
   "cell_type": "code",
   "execution_count": 47,
   "id": "ab8577a6-6f17-43a1-8e95-f2d74e57bfd6",
   "metadata": {},
   "outputs": [],
   "source": [
    "# Vowel / Consonant (?)\n",
    "# Sonorant / Obstruents\n",
    "## Sonorant: voicedapprox + trill + vowel + flap + nasal\n",
    "## Insonorant: fricative + implosive + plosive\n",
    "# Morphology (?)"
   ]
  },
  {
   "cell_type": "code",
   "execution_count": null,
   "id": "2eb7983e-ffd2-4d19-b83a-afea31590aeb",
   "metadata": {},
   "outputs": [],
   "source": []
  }
 ],
 "metadata": {
  "kernelspec": {
   "display_name": "Python 3 (ipykernel)",
   "language": "python",
   "name": "python3"
  },
  "language_info": {
   "codemirror_mode": {
    "name": "ipython",
    "version": 3
   },
   "file_extension": ".py",
   "mimetype": "text/x-python",
   "name": "python",
   "nbconvert_exporter": "python",
   "pygments_lexer": "ipython3",
   "version": "3.9.5"
  }
 },
 "nbformat": 4,
 "nbformat_minor": 5
}
