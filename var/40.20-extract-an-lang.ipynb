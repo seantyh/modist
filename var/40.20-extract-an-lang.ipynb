{
 "cells": [
  {
   "cell_type": "code",
   "execution_count": 1,
   "id": "6e492b76-65af-4357-b948-45fdd171ebd3",
   "metadata": {},
   "outputs": [],
   "source": [
    "import pandas as pd\n",
    "from pathlib import Path\n",
    "import pydub\n",
    "from tqdm.auto import tqdm"
   ]
  },
  {
   "cell_type": "code",
   "execution_count": 2,
   "id": "caf7e357-26c1-4bb9-8fba-fe615a773cf4",
   "metadata": {},
   "outputs": [],
   "source": [
    "abo16_list = pd.read_csv(\"../data/abo16_list.txt\")\n",
    "anmp3_dir = Path(\"../data/anmp3\")\n",
    "anmp3_dir.mkdir(parents=True, exist_ok=True)"
   ]
  },
  {
   "cell_type": "code",
   "execution_count": 3,
   "id": "c0f2d346-86c7-4654-9e42-fdce4a4bc6bc",
   "metadata": {},
   "outputs": [
    {
     "data": {
      "text/html": [
       "<div>\n",
       "<style scoped>\n",
       "    .dataframe tbody tr th:only-of-type {\n",
       "        vertical-align: middle;\n",
       "    }\n",
       "\n",
       "    .dataframe tbody tr th {\n",
       "        vertical-align: top;\n",
       "    }\n",
       "\n",
       "    .dataframe thead th {\n",
       "        text-align: right;\n",
       "    }\n",
       "</style>\n",
       "<table border=\"1\" class=\"dataframe\">\n",
       "  <thead>\n",
       "    <tr style=\"text-align: right;\">\n",
       "      <th></th>\n",
       "      <th>filename</th>\n",
       "      <th>lang</th>\n",
       "    </tr>\n",
       "  </thead>\n",
       "  <tbody>\n",
       "    <tr>\n",
       "      <th>0</th>\n",
       "      <td>c5008-2201151100.mp4</td>\n",
       "      <td>Seediq</td>\n",
       "    </tr>\n",
       "    <tr>\n",
       "      <th>1</th>\n",
       "      <td>c5008-2201150800.mp4</td>\n",
       "      <td>Thau</td>\n",
       "    </tr>\n",
       "    <tr>\n",
       "      <th>2</th>\n",
       "      <td>c5008-2201142000.mp4</td>\n",
       "      <td>Saysiyat</td>\n",
       "    </tr>\n",
       "    <tr>\n",
       "      <th>3</th>\n",
       "      <td>c5008-2201141100.mp4</td>\n",
       "      <td>Rukai</td>\n",
       "    </tr>\n",
       "    <tr>\n",
       "      <th>4</th>\n",
       "      <td>c5008-2201132000.mp4</td>\n",
       "      <td>Bunun</td>\n",
       "    </tr>\n",
       "  </tbody>\n",
       "</table>\n",
       "</div>"
      ],
      "text/plain": [
       "               filename      lang\n",
       "0  c5008-2201151100.mp4    Seediq\n",
       "1  c5008-2201150800.mp4      Thau\n",
       "2  c5008-2201142000.mp4  Saysiyat\n",
       "3  c5008-2201141100.mp4     Rukai\n",
       "4  c5008-2201132000.mp4     Bunun"
      ]
     },
     "execution_count": 3,
     "metadata": {},
     "output_type": "execute_result"
    }
   ],
   "source": [
    "abo16_list.head()"
   ]
  },
  {
   "cell_type": "code",
   "execution_count": 6,
   "id": "da527c4e-7831-4bcf-b386-254af6b47579",
   "metadata": {},
   "outputs": [],
   "source": [
    "def make_mp3_path(video_name):\n",
    "    mp3_dir = Path(\"../data/mp3\")    \n",
    "    video_path = mp3_dir/ video_name.replace(\".mp4\", \".mp3\")\n",
    "    return video_path"
   ]
  },
  {
   "cell_type": "code",
   "execution_count": 7,
   "id": "a1eb2216-46e2-4faf-9243-c91be23d8e29",
   "metadata": {},
   "outputs": [],
   "source": [
    "mp3_dir = Path(\"../data/mp3\")"
   ]
  },
  {
   "cell_type": "code",
   "execution_count": 8,
   "id": "5822cfa3-6a11-4191-b888-77cd0c0c9726",
   "metadata": {},
   "outputs": [],
   "source": [
    "import numpy as np"
   ]
  },
  {
   "cell_type": "code",
   "execution_count": 9,
   "id": "6709e722-e05f-4dc8-a6ad-eeb28831449f",
   "metadata": {},
   "outputs": [],
   "source": [
    "misc_index = np.arange(abo16_list.shape[0])\n",
    "np.random.seed(123)\n",
    "np.random.shuffle(misc_index,)\n",
    "# misc_index = misc_index[:9]\n",
    "misc_index = []"
   ]
  },
  {
   "cell_type": "code",
   "execution_count": null,
   "id": "87ff7508-01fe-4e29-9fae-c4ebcba85e1f",
   "metadata": {},
   "outputs": [],
   "source": [
    "# thau_list = abo16_list.loc[abo16_list.lang=='Thau']\n",
    "paiwan_list = abo16_list.loc[abo16_list.lang=='Paiwan']"
   ]
  },
  {
   "cell_type": "code",
   "execution_count": 15,
   "id": "090d53ff-fbff-4273-921f-e923a06dcd08",
   "metadata": {},
   "outputs": [
    {
     "data": {
      "application/vnd.jupyter.widget-view+json": {
       "model_id": "e8fd74e4cf7447c0be45c60a0f8a3f40",
       "version_major": 2,
       "version_minor": 0
      },
      "text/plain": [
       "  0%|          | 0/9 [00:00<?, ?it/s]"
      ]
     },
     "metadata": {},
     "output_type": "display_data"
    },
    {
     "name": "stdout",
     "output_type": "stream",
     "text": [
      "INFO: fewer than 10 anchor footage detected in  c5008-2201082000.mp4\n",
      "INFO: fewer than 10 anchor footage detected in  c5008-2112252000.mp4\n",
      "INFO: fewer than 10 anchor footage detected in  c5008-2111272000.mp4\n"
     ]
    }
   ],
   "source": [
    "for idx in tqdm(range(abo16_list.shape[0])):\n",
    "# for idx in tqdm(range(paiwan_list.shape[0])):\n",
    "    basename = abo16_list.iloc[idx].filename\n",
    "    out_path = anmp3_dir / basename.replace(\".mp4\", \".mp3\")    \n",
    "        \n",
    "    lang = abo16_list.iloc[idx].lang\n",
    "    mp3_path = make_mp3_path(basename)\n",
    "    mp3 = pydub.AudioSegment.from_mp3(mp3_path)\n",
    "    anchor_path = \"../data/sandbox/anchor_segs/\" + basename.replace(\".mp4\", \".anchor.csv\")\n",
    "    anchor_seg = pd.read_csv(anchor_path, index_col=0)\n",
    "    an_offsets = anchor_seg.loc[anchor_seg.is_anchor].offset.tolist()\n",
    "    misc_offsets = anchor_seg.iloc[20:].loc[~anchor_seg.is_anchor].offset.tolist()\n",
    "    if len(an_offsets) < 1:\n",
    "        print(\"INFO: fewer than 10 anchor footage detected in \", basename)\n",
    "    misc_offsets = misc_offsets[:len(an_offsets)]\n",
    "    concat = pydub.AudioSegment.empty()\n",
    "    \n",
    "    if idx in misc_index:\n",
    "        misc = pydub.AudioSegment.empty()\n",
    "    else:\n",
    "        misc = None\n",
    "        \n",
    "    cursor = 0\n",
    "    for offset_i, offset_x in enumerate(an_offsets):    \n",
    "        if offset_x < cursor: continue    \n",
    "        if misc is not None:            \n",
    "            misc_x = misc_offsets[offset_i]            \n",
    "            misc += mp3[misc_x*1000: (misc_x+5)*1000]\n",
    "        concat += mp3[offset_x*1000: (offset_x+5)*1000]\n",
    "        cursor = offset_x+5\n",
    "    \n",
    "    out_path = anmp3_dir / basename.replace(\".mp4\", \".mp3\")\n",
    "    concat.export(out_path)\n",
    "    if misc is not None:\n",
    "        misc_path = anmp3_dir / (\"misc_\" + basename.replace(\".mp4\", \".mp3\"))\n",
    "        misc.export(misc_path)\n",
    "    "
   ]
  },
  {
   "cell_type": "markdown",
   "id": "30494815-5d67-4dc1-af4c-d6658176d6fe",
   "metadata": {},
   "source": [
    "## Anchor stat"
   ]
  },
  {
   "cell_type": "code",
   "execution_count": 27,
   "id": "5a9786e3-3da7-48ef-a0a7-bb038b4aa1b0",
   "metadata": {},
   "outputs": [
    {
     "data": {
      "application/vnd.jupyter.widget-view+json": {
       "model_id": "9cb3b0ae28754044a4a3694339370d85",
       "version_major": 2,
       "version_minor": 0
      },
      "text/plain": [
       "  0%|          | 0/144 [00:00<?, ?it/s]"
      ]
     },
     "metadata": {},
     "output_type": "display_data"
    }
   ],
   "source": [
    "anchor_map = {}\n",
    "for idx in tqdm(range(abo16_list.shape[0])):\n",
    "# for idx in tqdm(range(paiwan_list.shape[0])):\n",
    "    basename = abo16_list.iloc[idx].filename\n",
    "    out_path = anmp3_dir / basename.replace(\".mp4\", \".mp3\")    \n",
    "        \n",
    "    lang = abo16_list.iloc[idx].lang        \n",
    "    anchor_path = \"../data/sandbox/anchor_segs/\" + basename.replace(\".mp4\", \".anchor.csv\")\n",
    "    anchor_seg = pd.read_csv(anchor_path, index_col=0)\n",
    "    anchor_name = anchor_seg.loc[anchor_seg.is_anchor].anchor_name\n",
    "    try:\n",
    "        counter = anchor_map.setdefault(lang, Counter())\n",
    "        counter[anchor_name[0]] += 1\n",
    "    except Exception:\n",
    "        pass"
   ]
  },
  {
   "cell_type": "code",
   "execution_count": 30,
   "id": "bc261e0e-16e5-4702-a65e-0c7b32991463",
   "metadata": {},
   "outputs": [
    {
     "data": {
      "text/plain": [
       "{'Seediq': 2,\n",
       " 'Thau': 1,\n",
       " 'Saysiyat': 4,\n",
       " 'Rukai': 3,\n",
       " 'Bunun': 1,\n",
       " 'Truku': 1,\n",
       " 'Sakizaya': 2,\n",
       " 'Cou': 3,\n",
       " 'Yami': 1,\n",
       " 'Kavalan': 1,\n",
       " 'Amis': 1,\n",
       " 'Atayal': 2,\n",
       " 'Pinuyumayan': 1,\n",
       " 'Kanakanavu': 1,\n",
       " \"Hla'alua\": 1,\n",
       " 'Paiwan': 1}"
      ]
     },
     "execution_count": 30,
     "metadata": {},
     "output_type": "execute_result"
    }
   ],
   "source": [
    "{k: len(v) for k, v in anchor_map.items()}"
   ]
  },
  {
   "cell_type": "code",
   "execution_count": null,
   "id": "af037cce-9697-4ba8-894b-88bd0557a159",
   "metadata": {},
   "outputs": [],
   "source": []
  }
 ],
 "metadata": {
  "kernelspec": {
   "display_name": "Python 3 (ipykernel)",
   "language": "python",
   "name": "python3"
  },
  "language_info": {
   "codemirror_mode": {
    "name": "ipython",
    "version": 3
   },
   "file_extension": ".py",
   "mimetype": "text/x-python",
   "name": "python",
   "nbconvert_exporter": "python",
   "pygments_lexer": "ipython3",
   "version": "3.9.5"
  }
 },
 "nbformat": 4,
 "nbformat_minor": 5
}
