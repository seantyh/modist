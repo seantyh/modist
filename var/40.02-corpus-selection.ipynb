{
 "cells": [
  {
   "cell_type": "markdown",
   "id": "1e60e299-882a-46d4-8fb6-64355453fd59",
   "metadata": {},
   "source": [
    "# Selection - Abo16 Corpus"
   ]
  },
  {
   "cell_type": "code",
   "execution_count": 1,
   "id": "df66c45e-0c40-401e-86a7-6a6448a2c4a3",
   "metadata": {},
   "outputs": [],
   "source": [
    "import pandas as pd"
   ]
  },
  {
   "cell_type": "code",
   "execution_count": 7,
   "id": "4aefe028-86d6-48ad-bbbc-e92413df470c",
   "metadata": {},
   "outputs": [],
   "source": [
    "lang_map = pd.read_csv(\"../data/lang_map.csv\", names=\"filename lang\".split())\n",
    "# lang_map = lang_map.loc[~lang_map.filename.str.contains(\"c5008-22\"), :]"
   ]
  },
  {
   "cell_type": "code",
   "execution_count": 11,
   "id": "3a538c85-9cfd-4be0-a5f2-475b3acd6238",
   "metadata": {},
   "outputs": [],
   "source": [
    "error_list = pd.read_csv(\"../data/sandbox/lang_checks/error_list.txt\", names=\"filename note\".split())\n",
    "check_list = pd.read_csv(\"../data/sandbox/lang_checks/check_list.txt\", names=\"filename note\".split())\n",
    "drop_list = pd.concat([error_list, check_list], axis=0)"
   ]
  },
  {
   "cell_type": "code",
   "execution_count": 17,
   "id": "0acd5b3f-6134-4cf5-b73f-c4f56a2e3c8e",
   "metadata": {},
   "outputs": [
    {
     "data": {
      "text/plain": [
       "Amis           15\n",
       "Saysiyat       14\n",
       "Paiwan         14\n",
       "Seediq         14\n",
       "Pinuyumayan    13\n",
       "Yami           13\n",
       "Sakizaya       13\n",
       "Bunun          13\n",
       "Thau           13\n",
       "Hla'alua       13\n",
       "Atayal         13\n",
       "Truku          12\n",
       "Kanakanavu     12\n",
       "Rukai          11\n",
       "Kavalan        11\n",
       "Cou             9\n",
       "Name: lang, dtype: int64"
      ]
     },
     "execution_count": 17,
     "metadata": {},
     "output_type": "execute_result"
    }
   ],
   "source": [
    "lang_list = lang_map.loc[~lang_map.filename.isin(drop_list.filename)]\n",
    "lang_list.lang.value_counts()"
   ]
  },
  {
   "cell_type": "code",
   "execution_count": 18,
   "id": "2da897c7-0990-4af8-835f-e63a3d79ee24",
   "metadata": {},
   "outputs": [
    {
     "data": {
      "text/plain": [
       "144"
      ]
     },
     "execution_count": 18,
     "metadata": {},
     "output_type": "execute_result"
    }
   ],
   "source": [
    "16*9"
   ]
  },
  {
   "cell_type": "code",
   "execution_count": 30,
   "id": "5f393486-7f06-4144-be78-068f55c2de2c",
   "metadata": {},
   "outputs": [],
   "source": [
    "from collections import Counter\n",
    "counter = Counter()\n",
    "video_items = []\n",
    "for _, row in lang_list.iloc[::-1].iterrows():    \n",
    "    counter[row.lang] += 1\n",
    "    if counter[row.lang] <= 9:\n",
    "        video_items.append((row.filename, row.lang))"
   ]
  },
  {
   "cell_type": "code",
   "execution_count": 32,
   "id": "7cb1d54b-6bac-49f3-9534-9eddb346e15c",
   "metadata": {},
   "outputs": [],
   "source": [
    "selected = pd.DataFrame.from_records(video_items, columns=\"filename lang\".split())"
   ]
  },
  {
   "cell_type": "code",
   "execution_count": 35,
   "id": "f4f16643-ee84-4b74-9335-0ced5d837d5b",
   "metadata": {},
   "outputs": [],
   "source": [
    "selected.to_csv(\"../data/abo16_list.txt\", index=None)"
   ]
  },
  {
   "cell_type": "code",
   "execution_count": null,
   "id": "63c8f237-0155-470a-b189-9f0cd4c6fd07",
   "metadata": {},
   "outputs": [],
   "source": []
  }
 ],
 "metadata": {
  "kernelspec": {
   "display_name": "Python 3 (ipykernel)",
   "language": "python",
   "name": "python3"
  },
  "language_info": {
   "codemirror_mode": {
    "name": "ipython",
    "version": 3
   },
   "file_extension": ".py",
   "mimetype": "text/x-python",
   "name": "python",
   "nbconvert_exporter": "python",
   "pygments_lexer": "ipython3",
   "version": "3.9.5"
  }
 },
 "nbformat": 4,
 "nbformat_minor": 5
}
