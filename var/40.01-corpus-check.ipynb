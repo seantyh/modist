{
 "cells": [
  {
   "cell_type": "markdown",
   "id": "41a5f72f-02f8-41d0-8565-03d6718c26fc",
   "metadata": {},
   "source": [
    "# Abo16 Corpus"
   ]
  },
  {
   "cell_type": "code",
   "execution_count": 1,
   "id": "ef0b5f6d-ac87-4c18-ae8e-691794c510ce",
   "metadata": {},
   "outputs": [],
   "source": [
    "import pandas as pd"
   ]
  },
  {
   "cell_type": "code",
   "execution_count": 2,
   "id": "f4f1129e-3625-44ae-87f6-5cb563b009e5",
   "metadata": {},
   "outputs": [],
   "source": [
    "lang_map = pd.read_csv(\"../data/lang_map.csv\", names=\"filename lang\".split())\n",
    "# lang_map = lang_map.loc[~lang_map.filename.str.contains(\"c5008-22\"), :]"
   ]
  },
  {
   "cell_type": "code",
   "execution_count": 3,
   "id": "a413ad26-a232-4e93-8ee3-b8c97ec9a901",
   "metadata": {},
   "outputs": [
    {
     "data": {
      "text/plain": [
       "Amis           15\n",
       "Yami           15\n",
       "Sakizaya       15\n",
       "Pinuyumayan    14\n",
       "Bunun          14\n",
       "Saysiyat       14\n",
       "Paiwan         14\n",
       "Truku          14\n",
       "Thau           14\n",
       "Seediq         14\n",
       "Atayal         14\n",
       "Hla'alua       13\n",
       "Kavalan        13\n",
       "Rukai          12\n",
       "Cou            12\n",
       "Kanakanavu     12\n",
       "Name: lang, dtype: int64"
      ]
     },
     "execution_count": 3,
     "metadata": {},
     "output_type": "execute_result"
    }
   ],
   "source": [
    "lang_map.lang.value_counts()"
   ]
  },
  {
   "cell_type": "code",
   "execution_count": 4,
   "id": "25df8618-00b8-4de1-9095-09853e25d7e9",
   "metadata": {},
   "outputs": [],
   "source": [
    "file_items = lang_map.iloc[::-1].reset_index(drop=True).to_dict(orient=\"index\")"
   ]
  },
  {
   "cell_type": "code",
   "execution_count": 5,
   "id": "c7422223-64af-4120-8bbd-e54bcebc8ea8",
   "metadata": {},
   "outputs": [],
   "source": [
    "import imageio\n",
    "from pathlib import Path\n",
    "from matplotlib import pyplot as plt\n",
    "from PIL import Image, ImageDraw, ImageFont\n",
    "import cv2\n",
    "import face_recognition\n",
    "from tqdm.auto import tqdm"
   ]
  },
  {
   "cell_type": "code",
   "execution_count": 6,
   "id": "e90a5fa2-7967-41fa-bbec-ea57aa3f39ec",
   "metadata": {},
   "outputs": [],
   "source": [
    "def make_video_path(video_name):\n",
    "    video_dir = Path(\"../data/videos\")\n",
    "    date_dir = video_name.split(\"-\")[1].replace(\".mp4\", \"\")\n",
    "    video_path = video_dir / date_dir / video_name\n",
    "    return video_path"
   ]
  },
  {
   "cell_type": "code",
   "execution_count": 7,
   "id": "30d71154-4123-4a29-b947-ceebcf359f00",
   "metadata": {},
   "outputs": [],
   "source": [
    "\n",
    "def snapshot(video_path):    \n",
    "    video = cv2.VideoCapture(str(video_path))\n",
    "    fps = video.get(cv2.CAP_PROP_FPS)\n",
    "    video.set(cv2.CAP_PROP_POS_FRAMES, int(23 * fps))\n",
    "    ok, im = video.read()\n",
    "    if not ok:\n",
    "        raise IOError(\"Error when reading video\")\n",
    "    im = cv2.cvtColor(im, cv2.COLOR_BGR2RGB)\n",
    "    return im"
   ]
  },
  {
   "cell_type": "code",
   "execution_count": 11,
   "id": "be3df88a-c7bb-4bfa-8aaa-58def09e7cdd",
   "metadata": {},
   "outputs": [],
   "source": [
    "def annotate_image(im_arr):\n",
    "    im = Image.fromarray(im_arr)\n",
    "    font = ImageFont.truetype(\"/usr/share/fonts/truetype/dejavu/DejaVuSans.ttf\", 36)\n",
    "    draw = ImageDraw.Draw(im)        \n",
    "    draw.rectangle([(40,10), (1000, 110)], fill=\"lightgray\")\n",
    "    draw.text((50,20), video_name, fill=\"blue\", font=font)\n",
    "    draw.text((50,60), lang, fill=\"blue\", font=font)  \n",
    "    faces = face_recognition.face_locations(im_arr)    \n",
    "    for face_x in faces:\n",
    "        t,r,b,l = face_x        \n",
    "        draw.rectangle([(l,t),(r,b)], outline=\"orange\", width=4)\n",
    "    return im"
   ]
  },
  {
   "cell_type": "code",
   "execution_count": 12,
   "id": "b46a1403-86b1-449e-bec2-5f42650dad01",
   "metadata": {},
   "outputs": [],
   "source": [
    "sandbox_dir = Path(\"../data/sandbox/lang_checks\")\n",
    "sandbox_dir.mkdir(parents=True, exist_ok=True)"
   ]
  },
  {
   "cell_type": "code",
   "execution_count": 13,
   "id": "b5119ae6-426c-4900-b6e7-6359a57e7d11",
   "metadata": {},
   "outputs": [
    {
     "data": {
      "application/vnd.jupyter.widget-view+json": {
       "model_id": "e0eeea0006f7443da2ff8bc2ef70b966",
       "version_major": 2,
       "version_minor": 0
      },
      "text/plain": [
       "  0%|          | 0/219 [00:00<?, ?it/s]"
      ]
     },
     "metadata": {},
     "output_type": "display_data"
    },
    {
     "name": "stdout",
     "output_type": "stream",
     "text": [
      "Error {'filename': 'c5008-2112101100.mp4', 'lang': 'Rukai'}\n"
     ]
    },
    {
     "name": "stderr",
     "output_type": "stream",
     "text": [
      "[mov,mp4,m4a,3gp,3g2,mj2 @ 0x55b1b37ea100] moov atom not found\n"
     ]
    },
    {
     "name": "stdout",
     "output_type": "stream",
     "text": [
      "Error {'filename': 'c5008-2112082000.mp4', 'lang': 'Sakizaya'}\n"
     ]
    },
    {
     "name": "stderr",
     "output_type": "stream",
     "text": [
      "[mov,mp4,m4a,3gp,3g2,mj2 @ 0x55b1b37eaa80] moov atom not found\n"
     ]
    },
    {
     "name": "stdout",
     "output_type": "stream",
     "text": [
      "Error {'filename': 'c5008-2112061100.mp4', 'lang': 'Atayal'}\n"
     ]
    },
    {
     "name": "stderr",
     "output_type": "stream",
     "text": [
      "[mov,mp4,m4a,3gp,3g2,mj2 @ 0x55b1b37eaa80] moov atom not found\n",
      "[mov,mp4,m4a,3gp,3g2,mj2 @ 0x55b1b37eaa80] moov atom not found\n",
      "[mov,mp4,m4a,3gp,3g2,mj2 @ 0x55b1b37eaa80] moov atom not found\n",
      "[mov,mp4,m4a,3gp,3g2,mj2 @ 0x55b1b37eaa80] moov atom not found\n"
     ]
    },
    {
     "name": "stdout",
     "output_type": "stream",
     "text": [
      "Error {'filename': 'c5008-2112021100.mp4', 'lang': 'Truku'}\n",
      "Error {'filename': 'c5008-2112011100.mp4', 'lang': 'Cou'}\n",
      "Error {'filename': 'c5008-2111302000.mp4', 'lang': 'Yami'}\n",
      "Error {'filename': 'c5008-2111282000.mp4', 'lang': 'Pinuyumayan'}\n"
     ]
    },
    {
     "name": "stderr",
     "output_type": "stream",
     "text": [
      "[mov,mp4,m4a,3gp,3g2,mj2 @ 0x55b1b37eaa80] moov atom not found\n",
      "[mov,mp4,m4a,3gp,3g2,mj2 @ 0x55b1b37eaa80] moov atom not found\n"
     ]
    },
    {
     "name": "stdout",
     "output_type": "stream",
     "text": [
      "Error {'filename': 'c5008-2111242000.mp4', 'lang': 'Sakizaya'}\n"
     ]
    }
   ],
   "source": [
    "fout = open(sandbox_dir/\"error_list.txt\", \"w\")\n",
    "for item_x in tqdm(file_items.values()):\n",
    "    try:\n",
    "        video_name = item_x[\"filename\"]\n",
    "        lang = item_x[\"lang\"]\n",
    "        video_path = make_video_path(video_name)\n",
    "        im_arr = snapshot(video_path)\n",
    "        im_annot = annotate_image(im_arr)\n",
    "        im_annot.save(sandbox_dir/video_name.replace(\".mp4\", \".lang.jpg\"))\n",
    "    except Exception as ex:        \n",
    "        fout.write(f\"{video_name}, {ex}\\n\")\n",
    "        print(\"Error\", item_x)          \n",
    "fout.close()    "
   ]
  },
  {
   "cell_type": "code",
   "execution_count": null,
   "id": "bcc48b47-d7ed-4800-a356-6c186233e376",
   "metadata": {},
   "outputs": [],
   "source": []
  }
 ],
 "metadata": {
  "kernelspec": {
   "display_name": "Python 3 (ipykernel)",
   "language": "python",
   "name": "python3"
  },
  "language_info": {
   "codemirror_mode": {
    "name": "ipython",
    "version": 3
   },
   "file_extension": ".py",
   "mimetype": "text/x-python",
   "name": "python",
   "nbconvert_exporter": "python",
   "pygments_lexer": "ipython3",
   "version": "3.9.5"
  }
 },
 "nbformat": 4,
 "nbformat_minor": 5
}
